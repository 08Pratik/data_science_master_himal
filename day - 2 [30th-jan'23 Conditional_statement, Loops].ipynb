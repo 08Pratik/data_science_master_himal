{
 "cells": [
  {
   "cell_type": "code",
   "execution_count": 5,
   "metadata": {},
   "outputs": [
    {
     "name": "stdout",
     "output_type": "stream",
     "text": [
      "Hello World\n"
     ]
    }
   ],
   "source": [
    "print(\"Hello World\")"
   ]
  },
  {
   "cell_type": "code",
   "execution_count": 6,
   "metadata": {},
   "outputs": [],
   "source": [
    "age = 21"
   ]
  },
  {
   "cell_type": "code",
   "execution_count": 7,
   "metadata": {},
   "outputs": [
    {
     "name": "stdout",
     "output_type": "stream",
     "text": [
      "My age is 21\n"
     ]
    }
   ],
   "source": [
    "print(\"My age is\",age)"
   ]
  },
  {
   "cell_type": "markdown",
   "metadata": {},
   "source": [
    "## String Formatting"
   ]
  },
  {
   "cell_type": "markdown",
   "metadata": {},
   "source": [
    "#### fstring"
   ]
  },
  {
   "cell_type": "code",
   "execution_count": 31,
   "metadata": {},
   "outputs": [
    {
     "name": "stdout",
     "output_type": "stream",
     "text": [
      "My age is : 21\n"
     ]
    }
   ],
   "source": [
    "print(f\"My age is : {age}\")"
   ]
  },
  {
   "cell_type": "code",
   "execution_count": 32,
   "metadata": {},
   "outputs": [
    {
     "name": "stdout",
     "output_type": "stream",
     "text": [
      "My name is :Himal Mevada\n"
     ]
    }
   ],
   "source": [
    "f_name = \"Himal Mevada\"\n",
    "print(f\"My name is :{f_name}\")"
   ]
  },
  {
   "cell_type": "markdown",
   "metadata": {},
   "source": [
    "#### .format()"
   ]
  },
  {
   "cell_type": "code",
   "execution_count": 33,
   "metadata": {},
   "outputs": [
    {
     "name": "stdout",
     "output_type": "stream",
     "text": [
      "My age is :21\n"
     ]
    }
   ],
   "source": [
    "print(\"My age is :{}\".format(age))"
   ]
  },
  {
   "cell_type": "code",
   "execution_count": 34,
   "metadata": {},
   "outputs": [
    {
     "name": "stdout",
     "output_type": "stream",
     "text": [
      "My name is : Himal and age is 22\n"
     ]
    }
   ],
   "source": [
    "print(\"My name is : {} and age is {}\".format(\"Himal\",22))"
   ]
  },
  {
   "cell_type": "code",
   "execution_count": 35,
   "metadata": {},
   "outputs": [
    {
     "name": "stdout",
     "output_type": "stream",
     "text": [
      "My name is : 22 and age is Himal\n"
     ]
    }
   ],
   "source": [
    "print(\"My name is : {1} and age is {0}\".format(\"Himal\",22))"
   ]
  },
  {
   "cell_type": "markdown",
   "metadata": {},
   "source": [
    "#### placeholder"
   ]
  },
  {
   "cell_type": "code",
   "execution_count": 29,
   "metadata": {},
   "outputs": [
    {
     "name": "stdout",
     "output_type": "stream",
     "text": [
      "My name is : Himal and age is 22\n"
     ]
    }
   ],
   "source": [
    "print(\"My name is : {f_name} and age is {age}\".format(f_name = \"Himal\",age = 22))"
   ]
  },
  {
   "cell_type": "code",
   "execution_count": 30,
   "metadata": {},
   "outputs": [
    {
     "name": "stdout",
     "output_type": "stream",
     "text": [
      "My name is : Himal and age is 22\n"
     ]
    }
   ],
   "source": [
    "print(\"My name is : {f_name} and age is {age}\".format(f_name = \"Himal\",age = 22))"
   ]
  },
  {
   "cell_type": "code",
   "execution_count": 37,
   "metadata": {},
   "outputs": [
    {
     "name": "stdout",
     "output_type": "stream",
     "text": [
      "My age is 22 I have completed : my degree of MSC IT BIA with the name of Himal Mevada.\n"
     ]
    }
   ],
   "source": [
    "name = \"Himal Mevada\"\n",
    "age = 22\n",
    "degree = \"MSC IT BIA\"\n",
    "print(f\"My age is {age} I have completed : my degree of {degree} with the name of {name}.\")"
   ]
  },
  {
   "cell_type": "markdown",
   "metadata": {},
   "source": [
    "## Control Flow"
   ]
  },
  {
   "cell_type": "markdown",
   "metadata": {},
   "source": [
    "### Decision Making Statement :"
   ]
  },
  {
   "cell_type": "markdown",
   "metadata": {},
   "source": [
    "#### It helps us to make decision during our program for particular situation\n",
    "#### 1. If \n",
    "#### 2. If else\n",
    "#### 3. If elif else\n",
    "#### 4. Nested if\n",
    "#### 5. Single Statement Suites"
   ]
  },
  {
   "cell_type": "code",
   "execution_count": 39,
   "metadata": {},
   "outputs": [],
   "source": [
    "age = 18"
   ]
  },
  {
   "cell_type": "code",
   "execution_count": 40,
   "metadata": {},
   "outputs": [
    {
     "name": "stdout",
     "output_type": "stream",
     "text": [
      "You are eligible for vote.\n"
     ]
    }
   ],
   "source": [
    "if age >= 18:\n",
    "    print(\"You are eligible for vote.\")"
   ]
  },
  {
   "cell_type": "code",
   "execution_count": 52,
   "metadata": {},
   "outputs": [
    {
     "name": "stdout",
     "output_type": "stream",
     "text": [
      "You are not eligible\n"
     ]
    }
   ],
   "source": [
    "age = 17\n",
    "if age < 18 :\n",
    "    print(\"You are not eligible\")"
   ]
  },
  {
   "cell_type": "code",
   "execution_count": 53,
   "metadata": {},
   "outputs": [
    {
     "name": "stdin",
     "output_type": "stream",
     "text": [
      "Enter the name :  Uttam\n"
     ]
    },
    {
     "name": "stdout",
     "output_type": "stream",
     "text": [
      "Your name is : Uttam\n"
     ]
    }
   ],
   "source": [
    "name = input(\"Enter the name : \")\n",
    "print(f\"Your name is : {name}\")"
   ]
  },
  {
   "cell_type": "code",
   "execution_count": 56,
   "metadata": {},
   "outputs": [
    {
     "data": {
      "text/plain": [
       "True"
      ]
     },
     "execution_count": 56,
     "metadata": {},
     "output_type": "execute_result"
    }
   ],
   "source": [
    "18 >= 18"
   ]
  },
  {
   "cell_type": "code",
   "execution_count": 58,
   "metadata": {},
   "outputs": [
    {
     "name": "stdin",
     "output_type": "stream",
     "text": [
      "Enter your age :  23\n"
     ]
    },
    {
     "name": "stdout",
     "output_type": "stream",
     "text": [
      "You are young blood.\n"
     ]
    }
   ],
   "source": [
    "my_age = int(input(\"Enter your age : \"))\n",
    "if my_age >= 18 and my_age <= 45:\n",
    "    print(\"You are young blood.\")"
   ]
  },
  {
   "cell_type": "code",
   "execution_count": 59,
   "metadata": {},
   "outputs": [
    {
     "name": "stdin",
     "output_type": "stream",
     "text": [
      "Enter your age :  34\n"
     ]
    },
    {
     "name": "stdout",
     "output_type": "stream",
     "text": [
      "You are young blood.\n"
     ]
    }
   ],
   "source": [
    "my_age = int(input(\"Enter your age : \"))\n",
    "if my_age >= 18 and my_age <= 45:\n",
    "    print(\"You are young blood.\")\n",
    "else:\n",
    "    print(\"No you are not eligible for voating.\")"
   ]
  },
  {
   "cell_type": "code",
   "execution_count": 60,
   "metadata": {},
   "outputs": [
    {
     "name": "stdout",
     "output_type": "stream",
     "text": [
      "You are host of this meating.\n"
     ]
    }
   ],
   "source": [
    "name = \"himal\"\n",
    "if name == \"himal\":\n",
    "    print(\"You are host of this meating.\")\n",
    "else:\n",
    "    print(\"You need to take permission to the host.\")"
   ]
  },
  {
   "cell_type": "code",
   "execution_count": 61,
   "metadata": {},
   "outputs": [
    {
     "name": "stdin",
     "output_type": "stream",
     "text": [
      "Enter some ammount :  234\n"
     ]
    },
    {
     "name": "stdout",
     "output_type": "stream",
     "text": [
      "Product Discounted Price : 163.79999999999998\n"
     ]
    }
   ],
   "source": [
    "product_price = int(input(\"Enter some ammount : \"))\n",
    "if product_price > 1000:\n",
    "    print(\"Product Discounted Price : {}\".format(product_price * 0.8))\n",
    "else:\n",
    "    print(\"Product Discounted Price : {}\".format(product_price * 0.7))"
   ]
  },
  {
   "cell_type": "code",
   "execution_count": 62,
   "metadata": {},
   "outputs": [
    {
     "name": "stdin",
     "output_type": "stream",
     "text": [
      "Enter some ammount :  3450\n"
     ]
    },
    {
     "name": "stdout",
     "output_type": "stream",
     "text": [
      "Product Discounted Price : 2760.0\n"
     ]
    }
   ],
   "source": [
    "product_price = int(input(\"Enter some ammount : \"))\n",
    "if product_price > 1000:\n",
    "    print(f\"Product Discounted Price : {product_price * 0.8}\")\n",
    "else:\n",
    "    print(f\"Product Discounted Price : {product_price * 0.7}\")"
   ]
  },
  {
   "cell_type": "code",
   "execution_count": 66,
   "metadata": {},
   "outputs": [
    {
     "name": "stdin",
     "output_type": "stream",
     "text": [
      "Enter any year :  2022\n"
     ]
    },
    {
     "name": "stdout",
     "output_type": "stream",
     "text": [
      "2022 is not a leap year.\n"
     ]
    }
   ],
   "source": [
    "year = int(input('Enter any year : '))\n",
    "\n",
    "if (year % 4 == 0 and year % 100 != 0):\n",
    "    print(f\"{year} is a leap year.\")\n",
    "elif year % 400 == 0:\n",
    "    print(f\"{year} is a leap year.\")\n",
    "else:\n",
    "    print(f\"{year} is not a leap year.\")"
   ]
  },
  {
   "cell_type": "code",
   "execution_count": 42,
   "metadata": {},
   "outputs": [
    {
     "name": "stdout",
     "output_type": "stream",
     "text": [
      "You are host of this meating.\n"
     ]
    }
   ],
   "source": [
    "product_price = int(input(\"Enter some ammount : \"))\n",
    "\n",
    "if product_price > 3000:\n",
    "    print(f\"Product Discounted Price : {product_price * 0.8}\")\n",
    "elif product_price >= 2000 and product_price <= 3000:\n",
    "    print(f\"Product Discounted Price : {product_price * 0.7}\")\n",
    "elif product_price >=100 and product_price <= 2000:\n",
    "    print(f\"Product Discounted Price : {product_price * 0.6}\")\n",
    "else:\n",
    "    print(\"Tera kuch nahi ho sakega\")"
   ]
  },
  {
   "cell_type": "code",
   "execution_count": 63,
   "metadata": {},
   "outputs": [
    {
     "name": "stdin",
     "output_type": "stream",
     "text": [
      "Enter some ammount :  2300\n"
     ]
    },
    {
     "name": "stdout",
     "output_type": "stream",
     "text": [
      "Product Discounted Price : 1610.0\n"
     ]
    }
   ],
   "source": [
    "product_price = int(input(\"Enter some ammount : \"))\n",
    "\n",
    "if product_price > 3000:\n",
    "    if product_price == 4000:\n",
    "        print(\"You got a trip to Goa\")\n",
    "    print(f\"Product Discounted Price : {product_price * 0.8}\")\n",
    "elif product_price >= 2000 and product_price <= 3000:\n",
    "    if product_price == 2999:\n",
    "        print(\"Congratulations you got an additional gift\")\n",
    "    print(f\"Product Discounted Price : {product_price * 0.7}\")\n",
    "elif product_price >=100 and product_price < 2000:\n",
    "    print(f\"Product Discounted Price : {product_price * 0.6}\")\n",
    "else:\n",
    "    print(\"Tera kuch nahi ho sakega\")"
   ]
  },
  {
   "cell_type": "code",
   "execution_count": 65,
   "metadata": {},
   "outputs": [
    {
     "name": "stdin",
     "output_type": "stream",
     "text": [
      "Enter the number :  450\n"
     ]
    },
    {
     "name": "stdout",
     "output_type": "stream",
     "text": [
      "Values is less than equal to 999\n"
     ]
    }
   ],
   "source": [
    "val = int(input(\"Enter the number : \"))\n",
    "if(val<=999) : print(\"Values is less than equal to 999\")\n",
    "else : print(\"Go to hell\")"
   ]
  },
  {
   "cell_type": "markdown",
   "metadata": {
    "tags": []
   },
   "source": [
    "### Looping : \n",
    "#### Used for doing repetative task.\n",
    "#### 1. While\n",
    "#### 2. For Loop\n",
    "#### 3. nested loops\n",
    "#### 4. Loop Control Statement : break, continue, pass"
   ]
  },
  {
   "cell_type": "code",
   "execution_count": 67,
   "metadata": {},
   "outputs": [
    {
     "name": "stdout",
     "output_type": "stream",
     "text": [
      "61\n"
     ]
    }
   ],
   "source": [
    "joining_age = 25\n",
    "i=1\n",
    "while joining_age <= 60:\n",
    "    # print(\"Sorry it\\'s time to retire\")\n",
    "    joining_age = joining_age + 1\n",
    "print(joining_age)"
   ]
  },
  {
   "cell_type": "code",
   "execution_count": 68,
   "metadata": {},
   "outputs": [
    {
     "name": "stdout",
     "output_type": "stream",
     "text": [
      "1000\n",
      "900\n",
      "800\n",
      "700\n",
      "600\n",
      "500\n",
      "400\n",
      "300\n",
      "200\n",
      "100\n",
      "Add some money\n"
     ]
    }
   ],
   "source": [
    "total_amount = 1000\n",
    "while total_amount != 0:\n",
    "    print(total_amount)\n",
    "    total_amount = total_amount - 100\n",
    "else:\n",
    "    print(\"Add some money\")    "
   ]
  },
  {
   "cell_type": "code",
   "execution_count": 69,
   "metadata": {},
   "outputs": [
    {
     "name": "stdout",
     "output_type": "stream",
     "text": [
      "Apple\n",
      "Banana\n",
      "Papaya\n",
      "Orange\n"
     ]
    }
   ],
   "source": [
    "# for loop\n",
    "fruit_bucket = [\"Apple\",\"Banana\",\"Papaya\",\"Orange\"]\n",
    "for i in fruit_bucket:\n",
    "    print(i)"
   ]
  },
  {
   "cell_type": "code",
   "execution_count": 70,
   "metadata": {},
   "outputs": [
    {
     "name": "stdout",
     "output_type": "stream",
     "text": [
      "Apple Banana Papaya Orange "
     ]
    }
   ],
   "source": [
    "# for loop\n",
    "fruit_bucket = [\"Apple\",\"Banana\",\"Papaya\",\"Orange\"]\n",
    "for i in fruit_bucket:\n",
    "    print(i,end=\" \")"
   ]
  },
  {
   "cell_type": "code",
   "execution_count": 71,
   "metadata": {},
   "outputs": [
    {
     "name": "stdout",
     "output_type": "stream",
     "text": [
      "Apple\n",
      "Banana\n",
      "Papaya\n",
      "This is Papaya.\n",
      "Orange\n"
     ]
    }
   ],
   "source": [
    "# for loop\n",
    "fruit_bucket = [\"Apple\",\"Banana\",\"Papaya\",\"Orange\"]\n",
    "for i in fruit_bucket:\n",
    "    print(i)\n",
    "    if i==\"Papaya\":\n",
    "        print(\"This is Papaya.\")"
   ]
  },
  {
   "cell_type": "code",
   "execution_count": 72,
   "metadata": {},
   "outputs": [
    {
     "name": "stdout",
     "output_type": "stream",
     "text": [
      "P\n",
      "a\n",
      "p\n",
      "a\n",
      "y\n",
      "a\n"
     ]
    }
   ],
   "source": [
    "fruit_name = \"Papaya\"\n",
    "\n",
    "for i in fruit_name:\n",
    "    print(i)"
   ]
  },
  {
   "cell_type": "code",
   "execution_count": 73,
   "metadata": {},
   "outputs": [
    {
     "name": "stdout",
     "output_type": "stream",
     "text": [
      "1\n",
      "3\n",
      "5\n",
      "7\n",
      "9\n"
     ]
    }
   ],
   "source": [
    "for i in range(1,10,2):\n",
    "    print(i)"
   ]
  },
  {
   "cell_type": "code",
   "execution_count": 76,
   "metadata": {},
   "outputs": [
    {
     "name": "stdout",
     "output_type": "stream",
     "text": [
      "*\n",
      "**\n",
      "***\n",
      "****\n",
      "*****\n",
      "******\n",
      "*******\n",
      "********\n"
     ]
    }
   ],
   "source": [
    "n = 8\n",
    "for i in range(0,n):\n",
    "    for j in range(0,i+1):\n",
    "        print(\"*\",end=\"\")\n",
    "    print(\"\\r\")"
   ]
  },
  {
   "cell_type": "code",
   "execution_count": 77,
   "metadata": {},
   "outputs": [
    {
     "name": "stdout",
     "output_type": "stream",
     "text": [
      "        * \n",
      "       * * \n",
      "      * * * \n",
      "     * * * * \n",
      "    * * * * * \n",
      "   * * * * * * \n",
      "  * * * * * * * \n",
      " * * * * * * * * \n"
     ]
    }
   ],
   "source": [
    "n = 8\n",
    "for i in range(0,n):\n",
    "    print(\" \"*(n-i),end=\"\")\n",
    "    for j in range(0,i+1):\n",
    "        print(\"* \",end=\"\")\n",
    "    print(\"\\r\")"
   ]
  },
  {
   "cell_type": "code",
   "execution_count": null,
   "metadata": {},
   "outputs": [],
   "source": []
  }
 ],
 "metadata": {
  "kernelspec": {
   "display_name": "Python 3 (ipykernel)",
   "language": "python",
   "name": "python3"
  },
  "language_info": {
   "codemirror_mode": {
    "name": "ipython",
    "version": 3
   },
   "file_extension": ".py",
   "mimetype": "text/x-python",
   "name": "python",
   "nbconvert_exporter": "python",
   "pygments_lexer": "ipython3",
   "version": "3.9.12"
  },
  "vscode": {
   "interpreter": {
    "hash": "b1cc2f36871d7e6eb33d73c9431d7dc5cd9cdf88734d533b7fc5e72b44fa56ec"
   }
  }
 },
 "nbformat": 4,
 "nbformat_minor": 4
}
