{
 "cells": [
  {
   "cell_type": "markdown",
   "metadata": {},
   "source": [
    "## Ans - 1"
   ]
  },
  {
   "cell_type": "markdown",
   "metadata": {},
   "source": [
    "### guido van rossum has developed python programming language."
   ]
  },
  {
   "cell_type": "markdown",
   "metadata": {},
   "source": [
    "## Ans - 2"
   ]
  },
  {
   "cell_type": "markdown",
   "metadata": {},
   "source": [
    "### Python supports functional programming, object oriented programming, structured programming"
   ]
  },
  {
   "cell_type": "markdown",
   "metadata": {},
   "source": [
    "## Ans - 3"
   ]
  },
  {
   "cell_type": "markdown",
   "metadata": {},
   "source": [
    "### Yes, python is case sensitive when dealing with identifiers."
   ]
  },
  {
   "cell_type": "markdown",
   "metadata": {},
   "source": [
    "## Ans - 4"
   ]
  },
  {
   "cell_type": "markdown",
   "metadata": {},
   "source": [
    "### .py is the correct extension of python file."
   ]
  },
  {
   "cell_type": "markdown",
   "metadata": {},
   "source": [
    "## Ans - 5"
   ]
  },
  {
   "cell_type": "markdown",
   "metadata": {},
   "source": [
    "### Python is compiled and interpreted language. It first compile code into machine understandable code and then interpreter comes. When we execute\n",
    "### the python code our compiled code will be deleted because python do not want to show programmers compiled code."
   ]
  },
  {
   "cell_type": "markdown",
   "metadata": {},
   "source": [
    "## Ans - 6"
   ]
  },
  {
   "cell_type": "markdown",
   "metadata": {},
   "source": [
    "### We use indentation to define a block of code in python."
   ]
  },
  {
   "cell_type": "markdown",
   "metadata": {},
   "source": [
    "## Ans - 7"
   ]
  },
  {
   "cell_type": "markdown",
   "metadata": {},
   "source": [
    "### We use '#' character used to give single line comment."
   ]
  },
  {
   "cell_type": "markdown",
   "metadata": {},
   "source": [
    "## Ans - 8"
   ]
  },
  {
   "cell_type": "markdown",
   "metadata": {},
   "source": [
    "### python --version"
   ]
  },
  {
   "cell_type": "markdown",
   "metadata": {},
   "source": [
    "## Ans - 9"
   ]
  },
  {
   "cell_type": "markdown",
   "metadata": {},
   "source": [
    "### Lmbda function"
   ]
  },
  {
   "cell_type": "markdown",
   "metadata": {},
   "source": [
    "## Ans - 10"
   ]
  },
  {
   "cell_type": "markdown",
   "metadata": {},
   "source": [
    "### Performance Improvement Plan (PIP) is used to install and manage software package. It is written in python language."
   ]
  },
  {
   "cell_type": "markdown",
   "metadata": {},
   "source": [
    "## Ans - 11"
   ]
  },
  {
   "cell_type": "markdown",
   "metadata": {},
   "source": [
    "### Inbuilt Function : len(), sum(), avg(), min(), max(), reversed(), type(), int(), float(), bool(), str()."
   ]
  },
  {
   "cell_type": "markdown",
   "metadata": {},
   "source": [
    "## Ans - 12"
   ]
  },
  {
   "cell_type": "markdown",
   "metadata": {},
   "source": [
    "### maximum identifier length : 79 character"
   ]
  },
  {
   "cell_type": "markdown",
   "metadata": {},
   "source": [
    "## Ans - 13"
   ]
  },
  {
   "cell_type": "markdown",
   "metadata": {},
   "source": [
    "### Python is dynamic typed language we don't need to specify data type.\n",
    "### We have over 1 lac python package like numpy, pandas, matplotlib, seaborn which makes our work very easy.\n",
    "### Python is good in managing memory.\n",
    "### Easy syntax\n",
    "### Indentation\n",
    "### It used in Web Development, Artifical Intelligence, Machine Learning, Deep Learning, IOT, GUI, Games. "
   ]
  },
  {
   "cell_type": "markdown",
   "metadata": {},
   "source": [
    "## Ans - 14"
   ]
  },
  {
   "cell_type": "markdown",
   "metadata": {},
   "source": [
    "### In python we do not need to worry about memory. Python has garbage collector. This is automatic process that allocate and deallocate memory. For instance, there is one object created \"a\" and later on that in memory no reference is pointing to this object so, virtual machine has garbage collector and this garbage collector deletes all the object which is not in use.\n",
    "### Python works with two type of memory :\n",
    "\n",
    "### 1.Stack Memory -> Functions reference and method calls are stored in stack memory.\n",
    "### 2.Heap Memory  -> All the variables which are inside a function or outside a function or method are stored in heap memory. "
   ]
  },
  {
   "cell_type": "markdown",
   "metadata": {},
   "source": [
    "## Ans - 15"
   ]
  },
  {
   "cell_type": "markdown",
   "metadata": {},
   "source": [
    "### first go to \"https://www.python.org/downloads/\" website and click on Download python 3.11.1\n",
    "### then open up the Windows search bar and type python.exe. \n",
    "### Then right-click on Python.exe that pops up in the resulting menu and select the Open file location option.\n",
    "### In the Explorer windows that opens, click on the long directory bar to the left of the search bar. \n",
    "### Highlight and copy the entire path text to your clipboard with Ctrl + c. Then continue with the next steps below.\n",
    "### To add Python to the PATH in User variables, right-click on This PC, and select Properties. Once in the properties menu, click on the Advanced system settings option. \n",
    "### In the next window, select the Advanced tab, and select Environment Variables. Within the User variables menu, locate a variable called Path.\n",
    "### click on new and then enter path in variable name and paste the directory link in varibale value and click ok.\n",
    "### You can add Python to the System Variables PATH as well. go to path and click on edit then click on add and paste the directory link."
   ]
  },
  {
   "cell_type": "markdown",
   "metadata": {},
   "source": [
    "## Ans - 16"
   ]
  },
  {
   "cell_type": "markdown",
   "metadata": {},
   "source": [
    "### Yes, Indentation is required in python."
   ]
  }
 ],
 "metadata": {
  "kernelspec": {
   "display_name": "Python 3 (ipykernel)",
   "language": "python",
   "name": "python3"
  },
  "language_info": {
   "codemirror_mode": {
    "name": "ipython",
    "version": 3
   },
   "file_extension": ".py",
   "mimetype": "text/x-python",
   "name": "python",
   "nbconvert_exporter": "python",
   "pygments_lexer": "ipython3",
   "version": "3.10.4"
  },
  "vscode": {
   "interpreter": {
    "hash": "b1cc2f36871d7e6eb33d73c9431d7dc5cd9cdf88734d533b7fc5e72b44fa56ec"
   }
  }
 },
 "nbformat": 4,
 "nbformat_minor": 4
}
