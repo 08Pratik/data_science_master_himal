{
 "cells": [
  {
   "cell_type": "markdown",
   "id": "2a2bfcfd-12a7-49ac-b7bd-63ad297037ac",
   "metadata": {},
   "source": [
    "## Ans - 1"
   ]
  },
  {
   "cell_type": "code",
   "execution_count": 77,
   "id": "80e82795-d8c4-4e01-a421-983fdfafd785",
   "metadata": {},
   "outputs": [],
   "source": [
    "class Vehicle:\n",
    "    def __init__(self,name_of_vehicle,max_speed,average_of_vehicle):\n",
    "        self.name_of_vehicle = name_of_vehicle\n",
    "        self.max_speed = max_speed\n",
    "        self.average_of_vehicle = average_of_vehicle"
   ]
  },
  {
   "cell_type": "markdown",
   "id": "a0ce5d81-9840-4f73-a91d-dfaff2bebda9",
   "metadata": {
    "jp-MarkdownHeadingCollapsed": true,
    "tags": []
   },
   "source": [
    "## Ans - 2"
   ]
  },
  {
   "cell_type": "code",
   "execution_count": 78,
   "id": "8c672ab9-6afd-4683-861b-0baa5063aeed",
   "metadata": {},
   "outputs": [],
   "source": [
    "class Car(Vehicle):\n",
    "    def seating_capacity(self,capacity):\n",
    "        self.capacity = capacity\n",
    "        return self.name_of_vehicle,self.capacity"
   ]
  },
  {
   "cell_type": "code",
   "execution_count": 79,
   "id": "b4129204-0b6d-408f-aa7a-3104e4ad1d6b",
   "metadata": {},
   "outputs": [],
   "source": [
    "v2 = Car(\"mustange\",300,150)"
   ]
  },
  {
   "cell_type": "code",
   "execution_count": 80,
   "id": "7f0748bf-0483-4605-8fc1-eae66e6ffc4b",
   "metadata": {},
   "outputs": [
    {
     "data": {
      "text/plain": [
       "('mustange', 300, 150)"
      ]
     },
     "execution_count": 80,
     "metadata": {},
     "output_type": "execute_result"
    }
   ],
   "source": [
    "v2.name_of_vehicle,v2.max_speed,v2.average_of_vehicle"
   ]
  },
  {
   "cell_type": "code",
   "execution_count": 81,
   "id": "e816c808-da11-472e-b565-a599c49d6618",
   "metadata": {},
   "outputs": [
    {
     "data": {
      "text/plain": [
       "('mustange', 20)"
      ]
     },
     "execution_count": 81,
     "metadata": {},
     "output_type": "execute_result"
    }
   ],
   "source": [
    "v2.seating_capacity(20)"
   ]
  },
  {
   "cell_type": "markdown",
   "id": "60a92b8d-6331-449c-a4ff-de5cb28de3b4",
   "metadata": {},
   "source": [
    "## Ans - 3"
   ]
  },
  {
   "cell_type": "markdown",
   "id": "f3f0742a-c7ef-4984-a574-9e7bda21da2c",
   "metadata": {},
   "source": [
    "#### Multiple Inheritance : \n",
    "#### One single child class inherited by two or more than two base class called multiple inheritance.\n",
    "#### Here i create AccountDept and ItDept class. this class have some method and members.\n",
    "#### company class inherit all the data members and method from this two class. now company class object can access acc_emp and it_emp variable and acc_details and it_details from both class."
   ]
  },
  {
   "cell_type": "code",
   "execution_count": 82,
   "id": "691f3bd4-4d94-4055-99d1-f1d47ea193f5",
   "metadata": {},
   "outputs": [],
   "source": [
    "class AccountDept:\n",
    "    def acc_details(self):\n",
    "        self.acc_emp = 20\n",
    "        print(\"This is account department.\")\n",
    "\n",
    "class ItDept:\n",
    "    def it_details(self):\n",
    "        self.it_emp = 30\n",
    "        print(\"This is IT department.\")\n",
    "\n",
    "class Company(AccountDept,ItDept):\n",
    "    def print_details(self):\n",
    "        return self.acc_emp,self.it_emp"
   ]
  },
  {
   "cell_type": "code",
   "execution_count": 83,
   "id": "cc3b03be-71b8-4be9-b825-8b3c5002803a",
   "metadata": {},
   "outputs": [],
   "source": [
    "tata = Company()"
   ]
  },
  {
   "cell_type": "code",
   "execution_count": 84,
   "id": "a06631dd-d8fb-4fc2-9381-ff3509bc9a83",
   "metadata": {},
   "outputs": [
    {
     "name": "stdout",
     "output_type": "stream",
     "text": [
      "This is account department.\n"
     ]
    }
   ],
   "source": [
    "tata.acc_details()"
   ]
  },
  {
   "cell_type": "code",
   "execution_count": 85,
   "id": "6cac82b2-7c1d-4bb1-90f4-934161cef558",
   "metadata": {},
   "outputs": [
    {
     "name": "stdout",
     "output_type": "stream",
     "text": [
      "This is IT department.\n"
     ]
    }
   ],
   "source": [
    "tata.it_details()"
   ]
  },
  {
   "cell_type": "code",
   "execution_count": 86,
   "id": "74889021-5b00-4740-b9e6-a3869d1caabf",
   "metadata": {},
   "outputs": [
    {
     "data": {
      "text/plain": [
       "20"
      ]
     },
     "execution_count": 86,
     "metadata": {},
     "output_type": "execute_result"
    }
   ],
   "source": [
    "tata.acc_emp"
   ]
  },
  {
   "cell_type": "code",
   "execution_count": 87,
   "id": "1f7dc645-6e89-4539-9250-df390eb10c22",
   "metadata": {},
   "outputs": [
    {
     "data": {
      "text/plain": [
       "30"
      ]
     },
     "execution_count": 87,
     "metadata": {},
     "output_type": "execute_result"
    }
   ],
   "source": [
    "tata.it_emp"
   ]
  },
  {
   "cell_type": "code",
   "execution_count": 88,
   "id": "74071ab7-33e4-40c0-909d-5e937bb92632",
   "metadata": {},
   "outputs": [
    {
     "data": {
      "text/plain": [
       "(20, 30)"
      ]
     },
     "execution_count": 88,
     "metadata": {},
     "output_type": "execute_result"
    }
   ],
   "source": [
    "tata.print_details()"
   ]
  },
  {
   "cell_type": "markdown",
   "id": "df886e4b-fa4a-4a8a-97be-cb7bb7060398",
   "metadata": {},
   "source": [
    "## Ans - 4"
   ]
  },
  {
   "cell_type": "markdown",
   "id": "b1ec190a-e69f-4342-8a0b-d85006b0ef6b",
   "metadata": {},
   "source": [
    "#### When we create class we create private varible and method inside that class.\n",
    "#### We don't want any user to direct interact with our class to aechive abstraction concept.\n",
    "#### When we create private variable and method then no one can access or modify this variable values.\n",
    "#### For that we create getter and setter method.\n",
    "#### Setter : to set value of private variables.\n",
    "#### Getter : to get value of private variables.\n",
    "#### By using this getter and setter method user can access and modify private variables values."
   ]
  },
  {
   "cell_type": "code",
   "execution_count": 92,
   "id": "3d150a1c-a4a8-4fff-8420-51697c32b4a2",
   "metadata": {},
   "outputs": [],
   "source": [
    "class GujaratUniversity:\n",
    "    def __init__(self,std_name,std_city,std_course,std_email):\n",
    "        self.__std_name = std_name\n",
    "        self.__std_city = std_city\n",
    "        self.__std_course = std_course\n",
    "        self.__std_email = std_email\n",
    "    \n",
    "    def setter_update_name(self,update_name):\n",
    "        self.__std_name = update_name\n",
    "    \n",
    "    def setter_update_city(self,update_city):\n",
    "        self.__std_city = update_city\n",
    "    \n",
    "    def setter_update_course(self,update_course):\n",
    "        self.__std_course = update_course\n",
    "    \n",
    "    def setter_update_email(self,update_email):\n",
    "        self.__std_email = update_email\n",
    "    \n",
    "    def getter_details(self):\n",
    "        return f\"Name : {self.__std_name} | City : {self.__std_city} | Course : {self.__std_course} | Email : {self.__std_email}\"\n",
    "        \n",
    "    def __str__(self):\n",
    "        return f\"Name : {self.__std_name} | City : {self.__std_city} | Course : {self.__std_course} | Email : {self.__std_email}\""
   ]
  },
  {
   "cell_type": "code",
   "execution_count": 93,
   "id": "4aed64d5-5478-469e-8ebc-7ab31dd6a451",
   "metadata": {},
   "outputs": [],
   "source": [
    "himal = GujaratUniversity(\"himal\",\"ahmedabad\",\"MSCIT_BIA\",\"himal@gmail.com\")"
   ]
  },
  {
   "cell_type": "code",
   "execution_count": 95,
   "id": "33d04464-e594-44c3-bdb6-217c143dd674",
   "metadata": {},
   "outputs": [
    {
     "data": {
      "text/plain": [
       "'Name : himal | City : ahmedabad | Course : MSCIT_BIA | Email : himal@gmail.com'"
      ]
     },
     "execution_count": 95,
     "metadata": {},
     "output_type": "execute_result"
    }
   ],
   "source": [
    "himal.getter_details()"
   ]
  },
  {
   "cell_type": "code",
   "execution_count": 96,
   "id": "69605ddd-d235-416e-bb91-3d6dd7fe861f",
   "metadata": {},
   "outputs": [],
   "source": [
    "himal.setter_update_name(\"Hitesh\")"
   ]
  },
  {
   "cell_type": "code",
   "execution_count": 97,
   "id": "92b34a9e-4c8c-436b-a053-1f1da0a3ba1d",
   "metadata": {},
   "outputs": [],
   "source": [
    "himal.setter_update_city(\"Gandhinagar\")"
   ]
  },
  {
   "cell_type": "code",
   "execution_count": 98,
   "id": "0bc7060d-b857-4aed-b0c1-90dafaebb1ba",
   "metadata": {},
   "outputs": [],
   "source": [
    "himal.setter_update_course(\"MTECH_AI\")"
   ]
  },
  {
   "cell_type": "code",
   "execution_count": 99,
   "id": "2aec28d4-81ce-43f6-a548-572513ce36b8",
   "metadata": {},
   "outputs": [],
   "source": [
    "himal.setter_update_email(\"himal2@gmail.com\")"
   ]
  },
  {
   "cell_type": "code",
   "execution_count": 101,
   "id": "fc223bfc-6d08-44ac-83c9-d86fcb9b7d20",
   "metadata": {},
   "outputs": [
    {
     "data": {
      "text/plain": [
       "'Name : Hitesh | City : Gandhinagar | Course : MTECH_AI | Email : himal2@gmail.com'"
      ]
     },
     "execution_count": 101,
     "metadata": {},
     "output_type": "execute_result"
    }
   ],
   "source": [
    "himal.getter_details()"
   ]
  },
  {
   "cell_type": "markdown",
   "id": "13754c6e-5d52-4037-b134-ab9469fc76aa",
   "metadata": {},
   "source": [
    "## Ans - 5"
   ]
  },
  {
   "cell_type": "markdown",
   "id": "452b9d99-c14c-45dd-8f32-c8c215cb926e",
   "metadata": {},
   "source": [
    "#### Method Overriding : \n",
    "#### We have same name and same parameter of any method in different classes and they are inherit their properties.\n",
    "#### At runtime python will decide to call which method from which class."
   ]
  },
  {
   "cell_type": "code",
   "execution_count": 113,
   "id": "ac0f6f23-b191-4e68-b7af-5df89b7b1ccd",
   "metadata": {},
   "outputs": [],
   "source": [
    "class BscIT:\n",
    "    def course_info(self):\n",
    "        print(\"This is bsc it course information.\")\n",
    "        \n",
    "class MscIT(BscIT):\n",
    "    def course_info(self):\n",
    "        # BscIT.course_info(self)\n",
    "        print(\"This is msc it course information.\")"
   ]
  },
  {
   "cell_type": "code",
   "execution_count": 114,
   "id": "afedd60e-39ab-4ec8-87cb-e146e1abaa11",
   "metadata": {},
   "outputs": [],
   "source": [
    "harsh = MscIT()"
   ]
  },
  {
   "cell_type": "code",
   "execution_count": 115,
   "id": "13da395a-9502-4f47-ad7a-96130622de6b",
   "metadata": {},
   "outputs": [
    {
     "name": "stdout",
     "output_type": "stream",
     "text": [
      "This is msc it course information.\n"
     ]
    }
   ],
   "source": [
    "harsh.course_info()"
   ]
  }
 ],
 "metadata": {
  "kernelspec": {
   "display_name": "Python 3 (ipykernel)",
   "language": "python",
   "name": "python3"
  },
  "language_info": {
   "codemirror_mode": {
    "name": "ipython",
    "version": 3
   },
   "file_extension": ".py",
   "mimetype": "text/x-python",
   "name": "python",
   "nbconvert_exporter": "python",
   "pygments_lexer": "ipython3",
   "version": "3.9.12"
  }
 },
 "nbformat": 4,
 "nbformat_minor": 5
}
