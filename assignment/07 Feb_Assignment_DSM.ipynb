{
 "cells": [
  {
   "cell_type": "markdown",
   "id": "2a2bfcfd-12a7-49ac-b7bd-63ad297037ac",
   "metadata": {},
   "source": [
    "## Ans - 1"
   ]
  },
  {
   "cell_type": "code",
   "execution_count": 2,
   "id": "80e82795-d8c4-4e01-a421-983fdfafd785",
   "metadata": {},
   "outputs": [],
   "source": [
    "def validate_pass(pass_str):\n",
    "    special_char = ['@', '_', '!', '#', '$', '%', '^', '&', '*', '~', ':', '{','}']\n",
    "    if len(pass_str) >= 10:\n",
    "        upper_word_len = len([i for i in pass_str if i.isupper()]) >= 2\n",
    "        lower_word_len = len([i for i in pass_str if i.islower()]) >= 2\n",
    "        number_word_len = len([i for i in pass_str if i.isnumeric()]) >= 1 \n",
    "        special_word_len = len([i for i in pass_str if i in special_char]) >= 3\n",
    "        \n",
    "        if (upper_word_len and lower_word_len and number_word_len and special_word_len):\n",
    "            return \"Valid Password\"\n",
    "        else:\n",
    "            return \"Invalid Password\""
   ]
  },
  {
   "cell_type": "code",
   "execution_count": 6,
   "id": "c1bccd54-56db-4c2e-a883-bd17b9888858",
   "metadata": {},
   "outputs": [
    {
     "data": {
      "text/plain": [
       "'Valid Password'"
      ]
     },
     "execution_count": 6,
     "metadata": {},
     "output_type": "execute_result"
    }
   ],
   "source": [
    "password = \"HimalMevada@#$_2002\"\n",
    "validate_pass(password)"
   ]
  },
  {
   "cell_type": "markdown",
   "id": "a0ce5d81-9840-4f73-a91d-dfaff2bebda9",
   "metadata": {},
   "source": [
    "## Ans - 2"
   ]
  },
  {
   "cell_type": "code",
   "execution_count": 86,
   "id": "663d840d-024f-4e26-bd9b-f77c976a3570",
   "metadata": {},
   "outputs": [],
   "source": [
    "# Lambda, map, reduce, filter"
   ]
  },
  {
   "cell_type": "markdown",
   "id": "6ca1517a-8519-421d-a4aa-cc8a670de2c2",
   "metadata": {
    "tags": []
   },
   "source": [
    "#### Ans - 1"
   ]
  },
  {
   "cell_type": "code",
   "execution_count": 87,
   "id": "fc708f66-497a-422a-ac6a-33dec8a1c5b8",
   "metadata": {},
   "outputs": [],
   "source": [
    "str1 = \"This is my string\""
   ]
  },
  {
   "cell_type": "code",
   "execution_count": 88,
   "id": "5e61616c-eac0-49e2-975d-e0f6aeb863c6",
   "metadata": {},
   "outputs": [],
   "source": [
    "check_start_string = lambda x : x.startswith(\"This\")"
   ]
  },
  {
   "cell_type": "code",
   "execution_count": 89,
   "id": "c23a60c8-a1f6-4e81-ba58-bd0559085d58",
   "metadata": {},
   "outputs": [
    {
     "data": {
      "text/plain": [
       "True"
      ]
     },
     "execution_count": 89,
     "metadata": {},
     "output_type": "execute_result"
    }
   ],
   "source": [
    "check_start_string(str1)"
   ]
  },
  {
   "cell_type": "markdown",
   "id": "6e9fed99-bb2d-47f5-9c84-268c697c5aa7",
   "metadata": {
    "tags": []
   },
   "source": [
    "#### Ans - 2"
   ]
  },
  {
   "cell_type": "code",
   "execution_count": 90,
   "id": "54464a95-cf21-4840-9020-fffad7b63aac",
   "metadata": {},
   "outputs": [],
   "source": [
    "str2 = \"123456\""
   ]
  },
  {
   "cell_type": "code",
   "execution_count": 91,
   "id": "70267cb4-4999-406c-b106-4d241ea55eb3",
   "metadata": {},
   "outputs": [],
   "source": [
    "check_num_str = lambda x : x.isnumeric()"
   ]
  },
  {
   "cell_type": "code",
   "execution_count": 92,
   "id": "6669bdf4-41f6-459c-b194-1fb9fb5dc2f9",
   "metadata": {},
   "outputs": [
    {
     "data": {
      "text/plain": [
       "True"
      ]
     },
     "execution_count": 92,
     "metadata": {},
     "output_type": "execute_result"
    }
   ],
   "source": [
    "check_num_str(str2)"
   ]
  },
  {
   "cell_type": "markdown",
   "id": "1c406ac2-9de8-4643-8a04-bd74cf33f9b9",
   "metadata": {
    "tags": []
   },
   "source": [
    "#### Ans - 3"
   ]
  },
  {
   "cell_type": "code",
   "execution_count": 93,
   "id": "a84f7ffc-0d0b-418f-a1d4-2147959cd170",
   "metadata": {},
   "outputs": [],
   "source": [
    "li1 = [(\"mango\",99),(\"orange\",80), (\"grapes\", 1000)]"
   ]
  },
  {
   "cell_type": "code",
   "execution_count": 94,
   "id": "cd327361-19b3-4dd9-a4de-fe104a4e0b99",
   "metadata": {},
   "outputs": [],
   "source": [
    "sort_list = lambda x : x.sort()"
   ]
  },
  {
   "cell_type": "code",
   "execution_count": 95,
   "id": "d099a5fb-b845-4557-ae6e-ea87a2ad296a",
   "metadata": {},
   "outputs": [],
   "source": [
    "sort_list(li1)"
   ]
  },
  {
   "cell_type": "code",
   "execution_count": 96,
   "id": "d00d4763-f98f-4745-8914-52a877b064dc",
   "metadata": {},
   "outputs": [
    {
     "data": {
      "text/plain": [
       "[('grapes', 1000), ('mango', 99), ('orange', 80)]"
      ]
     },
     "execution_count": 96,
     "metadata": {},
     "output_type": "execute_result"
    }
   ],
   "source": [
    "li1"
   ]
  },
  {
   "cell_type": "code",
   "execution_count": 97,
   "id": "a1746646-08a9-4223-b95c-a9435dc8d507",
   "metadata": {},
   "outputs": [
    {
     "data": {
      "text/plain": [
       "[('grapes', 1000), ('mango', 99), ('orange', 80)]"
      ]
     },
     "execution_count": 97,
     "metadata": {},
     "output_type": "execute_result"
    }
   ],
   "source": [
    "li1"
   ]
  },
  {
   "cell_type": "markdown",
   "id": "8b46ba29-7fb5-442b-befb-49c6a9ad7878",
   "metadata": {
    "tags": []
   },
   "source": [
    "#### Ans - 4"
   ]
  },
  {
   "cell_type": "code",
   "execution_count": 98,
   "id": "14ec944d-82a6-4b5d-a4cf-21a1d00461eb",
   "metadata": {},
   "outputs": [],
   "source": [
    "num_range = range(1,11)"
   ]
  },
  {
   "cell_type": "code",
   "execution_count": 99,
   "id": "88ae54a9-4fd8-4668-b291-2758d34af9d7",
   "metadata": {},
   "outputs": [],
   "source": [
    "sqrt_num = list(map(lambda x : x**2, num_range))"
   ]
  },
  {
   "cell_type": "code",
   "execution_count": 100,
   "id": "2a341251-ff19-4ec9-b4cd-a77f50923bd4",
   "metadata": {},
   "outputs": [
    {
     "data": {
      "text/plain": [
       "[1, 4, 9, 16, 25, 36, 49, 64, 81, 100]"
      ]
     },
     "execution_count": 100,
     "metadata": {},
     "output_type": "execute_result"
    }
   ],
   "source": [
    "sqrt_num"
   ]
  },
  {
   "cell_type": "markdown",
   "id": "71aabaf8-d362-46ad-b3d0-3506e65c768b",
   "metadata": {
    "tags": []
   },
   "source": [
    "#### Ans - 5"
   ]
  },
  {
   "cell_type": "code",
   "execution_count": 101,
   "id": "ff5d30bc-2a30-43f7-a093-d2922a77a45b",
   "metadata": {},
   "outputs": [],
   "source": [
    "num_range = range(1,11)"
   ]
  },
  {
   "cell_type": "code",
   "execution_count": 102,
   "id": "5726501f-0f79-48ae-9cdf-ebde78e671ef",
   "metadata": {},
   "outputs": [],
   "source": [
    "cube_num = list(map(lambda x : x**3, num_range))"
   ]
  },
  {
   "cell_type": "code",
   "execution_count": 103,
   "id": "69a6562c-99f1-42b7-9004-c8b0d304f261",
   "metadata": {},
   "outputs": [
    {
     "data": {
      "text/plain": [
       "[1, 8, 27, 64, 125, 216, 343, 512, 729, 1000]"
      ]
     },
     "execution_count": 103,
     "metadata": {},
     "output_type": "execute_result"
    }
   ],
   "source": [
    "cube_num"
   ]
  },
  {
   "cell_type": "markdown",
   "id": "9cbd6eb0-823c-42e6-9eb9-897ff8d85981",
   "metadata": {
    "tags": []
   },
   "source": [
    "#### Ans - 6"
   ]
  },
  {
   "cell_type": "code",
   "execution_count": 104,
   "id": "67299c16-c137-4947-8f9a-56e6c6a73f38",
   "metadata": {},
   "outputs": [],
   "source": [
    "num = 22"
   ]
  },
  {
   "cell_type": "code",
   "execution_count": 105,
   "id": "ee618c23-f7d9-43fe-ab3c-761acaa34ff6",
   "metadata": {},
   "outputs": [],
   "source": [
    "is_even_num = lambda x : x % 2 == 0"
   ]
  },
  {
   "cell_type": "code",
   "execution_count": 106,
   "id": "a51b8c3b-8bbe-44b6-adc5-5db32e131f22",
   "metadata": {},
   "outputs": [
    {
     "data": {
      "text/plain": [
       "True"
      ]
     },
     "execution_count": 106,
     "metadata": {},
     "output_type": "execute_result"
    }
   ],
   "source": [
    "is_even_num(num)"
   ]
  },
  {
   "cell_type": "markdown",
   "id": "4637b995-190f-405d-8e6c-ebc27b2a701b",
   "metadata": {
    "tags": []
   },
   "source": [
    "#### Ans - 7"
   ]
  },
  {
   "cell_type": "code",
   "execution_count": 107,
   "id": "3bf118f8-48b3-448a-9251-5bd2d9df7e1b",
   "metadata": {},
   "outputs": [],
   "source": [
    "li2 = [1,2,3,4,5,6,7,8,9,10]"
   ]
  },
  {
   "cell_type": "code",
   "execution_count": 108,
   "id": "c76f31b5-619b-48d9-8f28-51a453627ae1",
   "metadata": {},
   "outputs": [],
   "source": [
    "odd_num = list(filter(lambda x : x % 2 != 0,li2))"
   ]
  },
  {
   "cell_type": "code",
   "execution_count": 109,
   "id": "9ac51fdc-0b09-4b61-8cae-37ea1854d0d8",
   "metadata": {},
   "outputs": [
    {
     "data": {
      "text/plain": [
       "[1, 3, 5, 7, 9]"
      ]
     },
     "execution_count": 109,
     "metadata": {},
     "output_type": "execute_result"
    }
   ],
   "source": [
    "odd_num"
   ]
  },
  {
   "cell_type": "markdown",
   "id": "47438813-610c-4c11-8bb8-09e713e30108",
   "metadata": {
    "tags": []
   },
   "source": [
    "#### Ans - 8"
   ]
  },
  {
   "cell_type": "code",
   "execution_count": 110,
   "id": "e54c7040-6ef5-4ca9-86f6-b2ff745286eb",
   "metadata": {},
   "outputs": [],
   "source": [
    "li3 = [1,2,3,4,5,6,-1,-2,-3,-4,-5,0]"
   ]
  },
  {
   "cell_type": "code",
   "execution_count": 111,
   "id": "13b9a53e-ee06-4ae6-81d2-16bad9052405",
   "metadata": {},
   "outputs": [],
   "source": [
    "positive_num = list(filter(lambda x : x > 0,li3))"
   ]
  },
  {
   "cell_type": "code",
   "execution_count": 112,
   "id": "734ff097-2f7b-41e1-89a5-16f230d51143",
   "metadata": {},
   "outputs": [],
   "source": [
    "negative_num = list(filter(lambda x : x < 0,li3))"
   ]
  },
  {
   "cell_type": "code",
   "execution_count": 113,
   "id": "a0529817-2ad6-405e-a570-b47df745441f",
   "metadata": {},
   "outputs": [
    {
     "name": "stdout",
     "output_type": "stream",
     "text": [
      "[1, 2, 3, 4, 5, 6]\n"
     ]
    }
   ],
   "source": [
    "print(positive_num)"
   ]
  },
  {
   "cell_type": "code",
   "execution_count": 114,
   "id": "3823d2d3-2459-45ac-adf1-5c62664b5ba7",
   "metadata": {},
   "outputs": [
    {
     "name": "stdout",
     "output_type": "stream",
     "text": [
      "[-1, -2, -3, -4, -5]\n"
     ]
    }
   ],
   "source": [
    "print(negative_num)"
   ]
  }
 ],
 "metadata": {
  "kernelspec": {
   "display_name": "Python 3 (ipykernel)",
   "language": "python",
   "name": "python3"
  },
  "language_info": {
   "codemirror_mode": {
    "name": "ipython",
    "version": 3
   },
   "file_extension": ".py",
   "mimetype": "text/x-python",
   "name": "python",
   "nbconvert_exporter": "python",
   "pygments_lexer": "ipython3",
   "version": "3.9.12"
  }
 },
 "nbformat": 4,
 "nbformat_minor": 5
}
