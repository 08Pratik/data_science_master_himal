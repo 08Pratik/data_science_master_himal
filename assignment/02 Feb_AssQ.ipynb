{
 "cells": [
  {
   "attachments": {},
   "cell_type": "markdown",
   "metadata": {},
   "source": [
    "## Ans - 1"
   ]
  },
  {
   "attachments": {},
   "cell_type": "markdown",
   "metadata": {},
   "source": [
    "### Tuples stores collections of items.\n",
    "### Tuples denoted by [].\n",
    "### It is ordered collections, allows duplicate values.\n",
    "### Yes, It is immutable that means we can not add , delete or update any items once tuple is defined.\n"
   ]
  },
  {
   "cell_type": "markdown",
   "metadata": {},
   "source": [
    "## Ans - 2"
   ]
  },
  {
   "cell_type": "code",
   "execution_count": 72,
   "metadata": {},
   "outputs": [],
   "source": [
    "### Tuple method : count() and index()\n",
    "tup = (1,2,True,\"Himal_mevada\",12.23,2,3,1)"
   ]
  },
  {
   "cell_type": "code",
   "execution_count": 73,
   "metadata": {},
   "outputs": [
    {
     "name": "stdout",
     "output_type": "stream",
     "text": [
      "Count : 2\n",
      "Index : 4\n"
     ]
    }
   ],
   "source": [
    "print(f\"Count : {tup.count(2)}\")\n",
    "print(f\"Index : {tup.index(12.23)}\")"
   ]
  },
  {
   "attachments": {},
   "cell_type": "markdown",
   "metadata": {},
   "source": [
    "### List is mutable so list have append, extend, pop,insert, remove , etc methods.\n",
    "### and Tuple is immutable so that's why tuple has very less methods like count and index."
   ]
  },
  {
   "cell_type": "markdown",
   "metadata": {},
   "source": [
    "## Ans - 3"
   ]
  },
  {
   "attachments": {},
   "cell_type": "markdown",
   "metadata": {},
   "source": [
    "### Set does not allow duplicate items."
   ]
  },
  {
   "cell_type": "code",
   "execution_count": 74,
   "metadata": {},
   "outputs": [
    {
     "name": "stdout",
     "output_type": "stream",
     "text": [
      "{1, 2, 3, 4}\n"
     ]
    }
   ],
   "source": [
    "List1 = [1,1,1,2,1,3,1,4,2,1,2,2,2,3,2,4,3,1,3,2,3,3,3,4,4,1,4,2,4,3,4,4]\n",
    "Set1 = set(List1)\n",
    "print(Set1)"
   ]
  },
  {
   "cell_type": "markdown",
   "metadata": {},
   "source": [
    "## Ans - 4"
   ]
  },
  {
   "attachments": {},
   "cell_type": "markdown",
   "metadata": {},
   "source": [
    "### union() method return a new set of all the element from given sets.\n",
    "### update() method do union of all the elements of given other sets into itself."
   ]
  },
  {
   "cell_type": "code",
   "execution_count": 75,
   "metadata": {},
   "outputs": [],
   "source": [
    "set1 = {1,2,'Himal',True}\n",
    "set2 = {4,False,None,'Jivan'}"
   ]
  },
  {
   "cell_type": "code",
   "execution_count": 78,
   "metadata": {},
   "outputs": [
    {
     "name": "stdout",
     "output_type": "stream",
     "text": [
      "{False, 1, 2, 4, 'Himal', None, 'Jivan'}\n",
      "{False, 1, 2, 4, 'Himal', None, 'Jivan'} {False, 4, None, 'Jivan'}\n"
     ]
    }
   ],
   "source": [
    "print(set1.union(set2))\n",
    "print(set1,set2)"
   ]
  },
  {
   "cell_type": "code",
   "execution_count": 79,
   "metadata": {},
   "outputs": [
    {
     "name": "stdout",
     "output_type": "stream",
     "text": [
      "{False, 1, 2, 4, 'Himal', None, 'Jivan'} {False, 4, None, 'Jivan'}\n"
     ]
    }
   ],
   "source": [
    "set1.update(set2)\n",
    "print(set1,set2)"
   ]
  },
  {
   "cell_type": "markdown",
   "metadata": {},
   "source": [
    "## Ans - 5"
   ]
  },
  {
   "attachments": {},
   "cell_type": "markdown",
   "metadata": {},
   "source": [
    "### Dictonary is a collections of items.\n",
    "### Dictonary defined by {}.\n",
    "### In dictonary each items are in key value pair seperated by colon(:) and each items are seperated by comma(,)\n",
    "### It is a ordered collection and allows duplicate value but not duplicate keys.\n",
    "### Dictonary is mutable we can add update and delete the items."
   ]
  },
  {
   "cell_type": "code",
   "execution_count": 80,
   "metadata": {},
   "outputs": [
    {
     "data": {
      "text/plain": [
       "{'name': 'himal', 'age': 21, 'skills': [1, 2, 3]}"
      ]
     },
     "execution_count": 80,
     "metadata": {},
     "output_type": "execute_result"
    }
   ],
   "source": [
    "dict1 = {\"name\":\"himal\",\"age\":21,\"skills\":[1,2,3]}\n",
    "dict1"
   ]
  },
  {
   "cell_type": "markdown",
   "metadata": {},
   "source": [
    "### Before python version 3.7 dictonary items are stored in hash table in random order\n",
    "### based on calculations from Hash Functions.\n",
    "### It uses sparse array which has lots of unused spaces between in dictonary items.\n",
    "### So our memory are also wasted.\n",
    "### The new implimentation uses dense array and sparse array , dense array stores key-value pair and sparse array stores the indices of this dense array."
   ]
  },
  {
   "cell_type": "markdown",
   "metadata": {},
   "source": [
    "## Ans - 6"
   ]
  },
  {
   "cell_type": "markdown",
   "metadata": {},
   "source": [
    "### Yes, we can create a nested dictonary."
   ]
  },
  {
   "cell_type": "code",
   "execution_count": 81,
   "metadata": {},
   "outputs": [
    {
     "data": {
      "text/plain": [
       "{'name': 'Himal_mevada',\n",
       " 'age': 21,\n",
       " 'Address': {'House_number': 'A-401',\n",
       "  'House_name': 'Sai Hevan',\n",
       "  'City': 'Ahmedabad',\n",
       "  'State': 'Gujarat'}}"
      ]
     },
     "execution_count": 81,
     "metadata": {},
     "output_type": "execute_result"
    }
   ],
   "source": [
    "dict2 = {\"name\":\"Himal_mevada\",\"age\":21,\"Address\":{\"House_number\":\"A-401\",\"House_name\":\"Sai Hevan\",\"City\":\"Ahmedabad\",\"State\":\"Gujarat\"}}\n",
    "dict2"
   ]
  },
  {
   "cell_type": "markdown",
   "metadata": {},
   "source": [
    "## Ans - 7"
   ]
  },
  {
   "cell_type": "code",
   "execution_count": 82,
   "metadata": {},
   "outputs": [],
   "source": [
    "dict1 = {\"language\":\"Python\",\"course\":\"Data Science Masters\"}"
   ]
  },
  {
   "cell_type": "code",
   "execution_count": 83,
   "metadata": {},
   "outputs": [
    {
     "data": {
      "text/plain": [
       "['Python', 'Machine Learning', 'Deep Learning']"
      ]
     },
     "execution_count": 83,
     "metadata": {},
     "output_type": "execute_result"
    }
   ],
   "source": [
    "dict1.setdefault(\"topics\",[\"Python\",\"Machine Learning\",\"Deep Learning\"])"
   ]
  },
  {
   "cell_type": "code",
   "execution_count": 84,
   "metadata": {},
   "outputs": [
    {
     "data": {
      "text/plain": [
       "{'language': 'Python',\n",
       " 'course': 'Data Science Masters',\n",
       " 'topics': ['Python', 'Machine Learning', 'Deep Learning']}"
      ]
     },
     "execution_count": 84,
     "metadata": {},
     "output_type": "execute_result"
    }
   ],
   "source": [
    "dict1"
   ]
  },
  {
   "cell_type": "markdown",
   "metadata": {},
   "source": [
    "## Ans - 8"
   ]
  },
  {
   "cell_type": "markdown",
   "metadata": {},
   "source": [
    "### We have total three view object in dictonaries:\n",
    "### 1. dict.get('key')\n",
    "### 2. dict['key']\n",
    "### 3. dict['key']['nested_dict_key']"
   ]
  },
  {
   "cell_type": "code",
   "execution_count": 85,
   "metadata": {},
   "outputs": [
    {
     "data": {
      "text/plain": [
       "{'Sport': 'Cricket',\n",
       " 'Teams': ['India',\n",
       "  'Australia',\n",
       "  'England',\n",
       "  'Soth Africa',\n",
       "  'Sri Lanka',\n",
       "  'New Zealand']}"
      ]
     },
     "execution_count": 85,
     "metadata": {},
     "output_type": "execute_result"
    }
   ],
   "source": [
    "dict1 = {\"Sport\":\"Cricket\",\"Teams\":[\"India\",\"Australia\",\"England\",\"Soth Africa\",\"Sri Lanka\",\"New Zealand\"]}\n",
    "dict1"
   ]
  },
  {
   "cell_type": "code",
   "execution_count": null,
   "metadata": {},
   "outputs": [],
   "source": []
  }
 ],
 "metadata": {
  "kernelspec": {
   "display_name": "Python 3",
   "language": "python",
   "name": "python3"
  },
  "language_info": {
   "codemirror_mode": {
    "name": "ipython",
    "version": 3
   },
   "file_extension": ".py",
   "mimetype": "text/x-python",
   "name": "python",
   "nbconvert_exporter": "python",
   "pygments_lexer": "ipython3",
   "version": "3.11.0rc2"
  },
  "orig_nbformat": 4,
  "vscode": {
   "interpreter": {
    "hash": "72b2382ece9768098284d92bbc69d35954e75b60d1e25897d1389c232f4796f0"
   }
  }
 },
 "nbformat": 4,
 "nbformat_minor": 2
}
