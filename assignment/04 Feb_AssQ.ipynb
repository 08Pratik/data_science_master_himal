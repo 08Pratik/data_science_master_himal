{
 "cells": [
  {
   "cell_type": "markdown",
   "metadata": {},
   "source": [
    "## Ans - 1"
   ]
  },
  {
   "cell_type": "code",
   "execution_count": 3,
   "metadata": {},
   "outputs": [
    {
     "name": "stdout",
     "output_type": "stream",
     "text": [
      "[('Virat Kohli', 24936), ('Jack Kallis', 25534), ('Ricky Ponting', 27483), ('Sachin Tendulkar', 34357)]\n"
     ]
    }
   ],
   "source": [
    "tup1 = [(\"Sachin Tendulkar\",34357),(\"Ricky Ponting\",27483),(\"Jack Kallis\",25534),(\"Virat Kohli\",24936)]\n",
    "tup1.sort(key=lambda x: x[1])\n",
    "print(tup1)"
   ]
  },
  {
   "cell_type": "markdown",
   "metadata": {},
   "source": [
    "## Ans - 2"
   ]
  },
  {
   "cell_type": "code",
   "execution_count": 22,
   "metadata": {},
   "outputs": [
    {
     "name": "stdout",
     "output_type": "stream",
     "text": [
      "Square : [1, 4, 9, 16, 25, 36, 49, 64, 81, 100]\n"
     ]
    }
   ],
   "source": [
    "li = [1,2,3,4,5,6,7,8,9,10]\n",
    "ans_sqrt = list(map(lambda x: x ** 2, li))\n",
    "print(\"Square : {}\".format(ans_sqrt))"
   ]
  },
  {
   "cell_type": "markdown",
   "metadata": {},
   "source": [
    "## Ans - 3"
   ]
  },
  {
   "cell_type": "code",
   "execution_count": 23,
   "metadata": {},
   "outputs": [
    {
     "name": "stdout",
     "output_type": "stream",
     "text": [
      "INT to STR : ('1', '2', '3', '4', '5', '6', '7', '8', '9', '10')\n"
     ]
    }
   ],
   "source": [
    "li2 = [1,2,3,4,5,6,7,8,9,10]\n",
    "ans_li_to_str = tuple(map(lambda x: str(x), li2))\n",
    "print(\"INT to STR : {}\".format(ans_li_to_str))"
   ]
  },
  {
   "cell_type": "markdown",
   "metadata": {},
   "source": [
    "## Ans - 4"
   ]
  },
  {
   "cell_type": "code",
   "execution_count": 53,
   "metadata": {},
   "outputs": [
    {
     "name": "stdout",
     "output_type": "stream",
     "text": [
      "Product of 1 to 25 : 325\n"
     ]
    }
   ],
   "source": [
    "from functools import reduce\n",
    "data = range(1,26)\n",
    "ans_reduce = reduce(lambda x, y: x + y, data)\n",
    "print(\"Product of 1 to 25 : {}\".format(ans_reduce))"
   ]
  },
  {
   "cell_type": "markdown",
   "metadata": {},
   "source": [
    "## Ans - 5"
   ]
  },
  {
   "cell_type": "code",
   "execution_count": 54,
   "metadata": {},
   "outputs": [
    {
     "name": "stdout",
     "output_type": "stream",
     "text": [
      "Divisible by 2 and 3 : [6, 60, 90, 120]\n"
     ]
    }
   ],
   "source": [
    "li3 = [2,3,6,9,27,60,90,120,55,46]\n",
    "ans_filter = list(filter(lambda x: x % 2 == 0 and x % 3 == 0, li3))\n",
    "print(\"Divisible by 2 and 3 : {}\".format(ans_filter))"
   ]
  },
  {
   "cell_type": "markdown",
   "metadata": {},
   "source": [
    "## Ans - 6"
   ]
  },
  {
   "cell_type": "code",
   "execution_count": 45,
   "metadata": {},
   "outputs": [
    {
     "name": "stdout",
     "output_type": "stream",
     "text": [
      "Palindrome : ['php', 'aba', 'radar', 'level']\n"
     ]
    }
   ],
   "source": [
    "li4 = [\"python\",\"php\",\"aba\",\"radar\",\"level\"]\n",
    "ans_palindrome = list(filter(lambda x : x if x[::1] == x[::-1] else \"\",li4))\n",
    "print(\"Palindrome : {}\".format(ans_palindrome))"
   ]
  }
 ],
 "metadata": {
  "kernelspec": {
   "display_name": "Python 3 (ipykernel)",
   "language": "python",
   "name": "python3"
  },
  "language_info": {
   "codemirror_mode": {
    "name": "ipython",
    "version": 3
   },
   "file_extension": ".py",
   "mimetype": "text/x-python",
   "name": "python",
   "nbconvert_exporter": "python",
   "pygments_lexer": "ipython3",
   "version": "3.9.12"
  },
  "vscode": {
   "interpreter": {
    "hash": "b1cc2f36871d7e6eb33d73c9431d7dc5cd9cdf88734d533b7fc5e72b44fa56ec"
   }
  }
 },
 "nbformat": 4,
 "nbformat_minor": 4
}
