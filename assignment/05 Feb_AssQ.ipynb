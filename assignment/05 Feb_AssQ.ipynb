{
 "cells": [
  {
   "cell_type": "markdown",
   "id": "bbf29031-0f37-43bf-8432-f8258bc125d6",
   "metadata": {},
   "source": [
    "## Ans - 1"
   ]
  },
  {
   "cell_type": "markdown",
   "id": "32936df1-2e52-4f5b-9da2-577726913a90",
   "metadata": {},
   "source": [
    "#### Class is a blueprint of something. Which contains class variable and class method.\n",
    "#### Object is an instance or variable of a class.\n",
    "\n",
    "#### Ex : I have blue print of any car for example i have volvo car blueprint. So our class will be volvo.\n",
    "#### This blueprint define howmany tyres, stearing , window, engine_number are there in this car as a class variable.\n",
    "#### Let's say car has some functionalities run, stop, go reverse, calculate mileage, open airbag so this will be class method."
   ]
  },
  {
   "cell_type": "markdown",
   "id": "1492b116-9a1d-46af-ad54-4e2de10b21b9",
   "metadata": {},
   "source": [
    "## Ans - 2"
   ]
  },
  {
   "cell_type": "markdown",
   "id": "396e4df7-91f7-464b-b3ca-31fe6a97b59e",
   "metadata": {},
   "source": [
    "#### (1) Inheritance\n",
    "#### (2) Polymorphisam\n",
    "#### (3) Incapsulation\n",
    "#### (4) Abstraction"
   ]
  },
  {
   "cell_type": "markdown",
   "id": "fc5e3aab-cbde-4e83-ab44-bf5475fe8fce",
   "metadata": {},
   "source": [
    "## Ans - 3"
   ]
  },
  {
   "cell_type": "markdown",
   "id": "e1e72987-f8a5-49e5-98c9-b8121fc93484",
   "metadata": {},
   "source": [
    "#### __init__() : This function used to initailise object of class.This function is also used to take argument whenever class object is created.\n",
    "#### This function is invoke automatically when class instance is created. "
   ]
  },
  {
   "cell_type": "code",
   "execution_count": 20,
   "id": "879ec1e9-bd37-4f73-951f-e45f8451a3fa",
   "metadata": {},
   "outputs": [],
   "source": [
    "class Car:\n",
    "    def __init__(self,name,color):\n",
    "        self.name = name\n",
    "        self.color = color\n",
    "    \n",
    "    def print_data(self):\n",
    "        return f\"Car name is {self.name} and color is {self.color}\""
   ]
  },
  {
   "cell_type": "code",
   "execution_count": 21,
   "id": "53644b00-1838-4ea2-8077-61e12dd8e05f",
   "metadata": {},
   "outputs": [],
   "source": [
    "maruti = Car(\"Alto\",\"Red\")"
   ]
  },
  {
   "cell_type": "code",
   "execution_count": 22,
   "id": "27ca436b-8781-4652-89f5-27ff63519518",
   "metadata": {},
   "outputs": [
    {
     "data": {
      "text/plain": [
       "'Car name is Alto and color is Red'"
      ]
     },
     "execution_count": 22,
     "metadata": {},
     "output_type": "execute_result"
    }
   ],
   "source": [
    "maruti.print_data()"
   ]
  },
  {
   "cell_type": "markdown",
   "id": "6ca3b4a9-d60b-4510-964e-28bf56f16f27",
   "metadata": {},
   "source": [
    "## Ans - 4"
   ]
  },
  {
   "cell_type": "markdown",
   "id": "c32f0930-9a51-41ad-b515-1822a8858df2",
   "metadata": {},
   "source": [
    "#### Self : this keyword refers to current class object or it points to current class instance.\n",
    "#### When we want to create any class variable then we need to use self.var_name\n",
    "#### because self referred to current class object so if my class name is student and object is something like \"himal\" and we want to create class variable as name then it will be something like himal.name So this himal.name object referes to student class."
   ]
  },
  {
   "cell_type": "markdown",
   "id": "8a14df75-8ffb-4960-b5e6-295c6d1c616c",
   "metadata": {},
   "source": [
    "## Ans - 5"
   ]
  },
  {
   "cell_type": "markdown",
   "id": "b92e22a4-2fe3-474e-9457-4fdb1fa401f1",
   "metadata": {},
   "source": [
    "#### Inheritance : Inheritance is one of the main pillar of OOPS.\n",
    "#### Basically it is a feature or technique to pass properties and methods from base class to its derived class.\n",
    "#### The class who inherits all the properties and method of main class or base class is called Derived Class.\n",
    "#### We have 4 type of inheritance :\n",
    "#### (1) Single Inheritance : Only one child or derived class inherited by one base or super class.\n",
    "#### (2) Multi Level Inheritance : One derived class inherited by another derived class and that derived class inherited by super or base class.\n",
    "#### (3) Multiple Inheritance : single derived class insherited by two or more than two base class."
   ]
  },
  {
   "cell_type": "markdown",
   "id": "9ed0f4a4-6e5e-4d65-bec8-ebe85960acd8",
   "metadata": {},
   "source": [
    "#### --> Single Inheritance Example :"
   ]
  },
  {
   "cell_type": "code",
   "execution_count": 33,
   "id": "516d9463-7cd7-44c3-afe6-65e044e85178",
   "metadata": {},
   "outputs": [],
   "source": [
    "class Company1:\n",
    "    def company_1_method(self):\n",
    "        return \"This is a method of company 1.\"\n",
    "        \n",
    "class Company2(Company1):\n",
    "    def company_2_method(self):\n",
    "        return \"This is a method of company 2.\""
   ]
  },
  {
   "cell_type": "code",
   "execution_count": 34,
   "id": "424ced10-c866-473a-9d14-e866c52d8338",
   "metadata": {},
   "outputs": [],
   "source": [
    "c2 = Company2()"
   ]
  },
  {
   "cell_type": "code",
   "execution_count": 35,
   "id": "4c49957f-2636-4dd2-b8ad-13608a7322c5",
   "metadata": {},
   "outputs": [
    {
     "data": {
      "text/plain": [
       "'This is a method of company 1.'"
      ]
     },
     "execution_count": 35,
     "metadata": {},
     "output_type": "execute_result"
    }
   ],
   "source": [
    "c2.company_1_method()"
   ]
  },
  {
   "cell_type": "code",
   "execution_count": 36,
   "id": "2b973849-6986-4a77-b574-621e650fffbc",
   "metadata": {},
   "outputs": [
    {
     "data": {
      "text/plain": [
       "'This is a method of company 2.'"
      ]
     },
     "execution_count": 36,
     "metadata": {},
     "output_type": "execute_result"
    }
   ],
   "source": [
    "c2.company_2_method()"
   ]
  },
  {
   "cell_type": "markdown",
   "id": "16e7139b-a4f0-44f7-9cf9-d41b341e9203",
   "metadata": {},
   "source": [
    "#### --> Multilevel Inheritance Example :"
   ]
  },
  {
   "cell_type": "code",
   "execution_count": 46,
   "id": "b6e57694-7fea-487e-8f69-1771ee251b96",
   "metadata": {},
   "outputs": [],
   "source": [
    "class Company1:\n",
    "    def company_1_method(self):\n",
    "        return \"This is a method of company 1.\"\n",
    "        \n",
    "class Company2(Company1):\n",
    "    def company_2_method(self):\n",
    "        return \"This is a method of company 2.\"\n",
    "        \n",
    "class Company3(Company2):\n",
    "    def company_3_method(self):\n",
    "        return \"This is a method of company 3.\""
   ]
  },
  {
   "cell_type": "code",
   "execution_count": 47,
   "id": "4e297be5-ac42-4aaf-a67b-2a8f206d0f71",
   "metadata": {},
   "outputs": [],
   "source": [
    "c1 = Company1()"
   ]
  },
  {
   "cell_type": "code",
   "execution_count": 48,
   "id": "37928d64-4655-4307-b8da-0f76e14d21fb",
   "metadata": {},
   "outputs": [
    {
     "data": {
      "text/plain": [
       "'This is a method of company 1.'"
      ]
     },
     "execution_count": 48,
     "metadata": {},
     "output_type": "execute_result"
    }
   ],
   "source": [
    "c1.company_1_method()"
   ]
  },
  {
   "cell_type": "code",
   "execution_count": 49,
   "id": "f2622d9b-0c55-4606-811e-8fee8944c890",
   "metadata": {},
   "outputs": [],
   "source": [
    "c2 = Company2()"
   ]
  },
  {
   "cell_type": "code",
   "execution_count": 50,
   "id": "d72182b4-8c4a-4e1b-9c53-2d351f334ed9",
   "metadata": {},
   "outputs": [
    {
     "data": {
      "text/plain": [
       "'This is a method of company 1.'"
      ]
     },
     "execution_count": 50,
     "metadata": {},
     "output_type": "execute_result"
    }
   ],
   "source": [
    "c2.company_1_method()"
   ]
  },
  {
   "cell_type": "code",
   "execution_count": 51,
   "id": "0aa0c23d-60ca-459e-bac8-36a20aa7d45e",
   "metadata": {},
   "outputs": [],
   "source": [
    "c3 = Company3()"
   ]
  },
  {
   "cell_type": "code",
   "execution_count": 52,
   "id": "6eee34c0-1a2d-45d3-86ca-1b4b8cf2a88f",
   "metadata": {},
   "outputs": [
    {
     "data": {
      "text/plain": [
       "'This is a method of company 1.'"
      ]
     },
     "execution_count": 52,
     "metadata": {},
     "output_type": "execute_result"
    }
   ],
   "source": [
    "c3.company_1_method()"
   ]
  },
  {
   "cell_type": "code",
   "execution_count": 53,
   "id": "cca5fc96-6d6b-4efd-aa85-f8381c6c37a5",
   "metadata": {},
   "outputs": [
    {
     "data": {
      "text/plain": [
       "'This is a method of company 2.'"
      ]
     },
     "execution_count": 53,
     "metadata": {},
     "output_type": "execute_result"
    }
   ],
   "source": [
    "c3.company_2_method()"
   ]
  },
  {
   "cell_type": "markdown",
   "id": "60c1f5b3-f386-4cbd-8836-5d9e7cf2c439",
   "metadata": {},
   "source": [
    "#### --> Multiple Inheritance Example :"
   ]
  },
  {
   "cell_type": "code",
   "execution_count": 60,
   "id": "3df45b77-e4a0-4a18-b74f-6dfee551b5b3",
   "metadata": {},
   "outputs": [],
   "source": [
    "class Company1:\n",
    "    def company_1_method(self):\n",
    "        return \"This is a method of company 1.\"\n",
    "        \n",
    "class Company2:\n",
    "    def company_2_method(self):\n",
    "        return \"This is a method of company 2.\"\n",
    "        \n",
    "class Company3(Company1,Company2):\n",
    "    def company_3_method(self):\n",
    "        return \"This is a method of company 3.\""
   ]
  },
  {
   "cell_type": "code",
   "execution_count": 61,
   "id": "2190dcc9-92da-49e4-8a46-2cd016cba835",
   "metadata": {},
   "outputs": [],
   "source": [
    "c3 = Company3()"
   ]
  },
  {
   "cell_type": "code",
   "execution_count": 62,
   "id": "a70c9ba5-b737-4cf2-b8cf-5498982c9c58",
   "metadata": {},
   "outputs": [
    {
     "data": {
      "text/plain": [
       "'This is a method of company 1.'"
      ]
     },
     "execution_count": 62,
     "metadata": {},
     "output_type": "execute_result"
    }
   ],
   "source": [
    "c3.company_1_method()"
   ]
  },
  {
   "cell_type": "code",
   "execution_count": 63,
   "id": "4b14aef6-da33-4978-bb3e-227ef70a4cc1",
   "metadata": {},
   "outputs": [
    {
     "data": {
      "text/plain": [
       "'This is a method of company 2.'"
      ]
     },
     "execution_count": 63,
     "metadata": {},
     "output_type": "execute_result"
    }
   ],
   "source": [
    "c3.company_2_method()"
   ]
  },
  {
   "cell_type": "code",
   "execution_count": 64,
   "id": "a646e9b0-2d1f-4d78-97f1-a44e87945329",
   "metadata": {},
   "outputs": [
    {
     "data": {
      "text/plain": [
       "'This is a method of company 3.'"
      ]
     },
     "execution_count": 64,
     "metadata": {},
     "output_type": "execute_result"
    }
   ],
   "source": [
    "c3.company_3_method()"
   ]
  }
 ],
 "metadata": {
  "kernelspec": {
   "display_name": "Python 3 (ipykernel)",
   "language": "python",
   "name": "python3"
  },
  "language_info": {
   "codemirror_mode": {
    "name": "ipython",
    "version": 3
   },
   "file_extension": ".py",
   "mimetype": "text/x-python",
   "name": "python",
   "nbconvert_exporter": "python",
   "pygments_lexer": "ipython3",
   "version": "3.9.12"
  }
 },
 "nbformat": 4,
 "nbformat_minor": 5
}
