{
 "cells": [
  {
   "cell_type": "markdown",
   "metadata": {},
   "source": [
    "## Ans - 1"
   ]
  },
  {
   "cell_type": "markdown",
   "metadata": {},
   "source": [
    "### Def keyword is used to define a function."
   ]
  },
  {
   "cell_type": "code",
   "execution_count": 4,
   "metadata": {},
   "outputs": [],
   "source": [
    "def odd_num(num):\n",
    "    li = []\n",
    "    for i in num:\n",
    "        if i % 2 != 0:\n",
    "            li.append(i)\n",
    "    return li"
   ]
  },
  {
   "cell_type": "code",
   "execution_count": 5,
   "metadata": {},
   "outputs": [
    {
     "name": "stdout",
     "output_type": "stream",
     "text": [
      "[1, 3, 5, 7, 9, 11, 13, 15, 17, 19, 21, 23]\n"
     ]
    }
   ],
   "source": [
    "print(odd_num(range(1,25)))"
   ]
  },
  {
   "cell_type": "markdown",
   "metadata": {},
   "source": [
    "## Ans - 2"
   ]
  },
  {
   "attachments": {},
   "cell_type": "markdown",
   "metadata": {},
   "source": [
    "### *args and **kwargs :\n",
    "### whenever we want to send multiple argument in any function then we need to use either *args or **kwargs in function's parameter.\n",
    "### In *args we need to pass only multiple value from calling function to function definition and In **kwargs we need to pass value with it's key like (name = \"Himal\")"
   ]
  },
  {
   "cell_type": "code",
   "execution_count": 21,
   "metadata": {},
   "outputs": [],
   "source": [
    "def natural_num_sum(*num_args):\n",
    "    s = 0\n",
    "    for i in num_args:\n",
    "        s = s + i\n",
    "    return s"
   ]
  },
  {
   "cell_type": "code",
   "execution_count": 22,
   "metadata": {},
   "outputs": [
    {
     "data": {
      "text/plain": [
       "32"
      ]
     },
     "execution_count": 22,
     "metadata": {},
     "output_type": "execute_result"
    }
   ],
   "source": [
    "natural_num_sum(1,2,3,5,6,4,5,6)"
   ]
  },
  {
   "cell_type": "markdown",
   "metadata": {},
   "source": [
    "## Ans - 3"
   ]
  },
  {
   "attachments": {},
   "cell_type": "markdown",
   "metadata": {},
   "source": [
    "### Iterator is an object that return a one data at a time.\n",
    "### We use __iter__() method to initialise the iterator object.\n",
    "### For iterating over iterator object we use \"__next__()\" method."
   ]
  },
  {
   "cell_type": "code",
   "execution_count": 36,
   "metadata": {},
   "outputs": [],
   "source": [
    "list1 = [2,4,6,8,10,12,14,16,18,20]"
   ]
  },
  {
   "cell_type": "code",
   "execution_count": 37,
   "metadata": {},
   "outputs": [],
   "source": [
    "iter_list = list1.__iter__()"
   ]
  },
  {
   "cell_type": "code",
   "execution_count": 38,
   "metadata": {},
   "outputs": [
    {
     "name": "stdout",
     "output_type": "stream",
     "text": [
      "<list_iterator object at 0x000001CCE1621EA0>\n"
     ]
    }
   ],
   "source": [
    "print(iter_list)"
   ]
  },
  {
   "cell_type": "code",
   "execution_count": 39,
   "metadata": {},
   "outputs": [
    {
     "data": {
      "text/plain": [
       "2"
      ]
     },
     "execution_count": 39,
     "metadata": {},
     "output_type": "execute_result"
    }
   ],
   "source": [
    "item_1 = iter_list.__next__()\n",
    "item_1"
   ]
  },
  {
   "cell_type": "code",
   "execution_count": 40,
   "metadata": {},
   "outputs": [
    {
     "data": {
      "text/plain": [
       "4"
      ]
     },
     "execution_count": 40,
     "metadata": {},
     "output_type": "execute_result"
    }
   ],
   "source": [
    "item_2 = iter_list.__next__()\n",
    "item_2"
   ]
  },
  {
   "cell_type": "code",
   "execution_count": 41,
   "metadata": {},
   "outputs": [
    {
     "data": {
      "text/plain": [
       "6"
      ]
     },
     "execution_count": 41,
     "metadata": {},
     "output_type": "execute_result"
    }
   ],
   "source": [
    "item_3 = iter_list.__next__()\n",
    "item_3"
   ]
  },
  {
   "cell_type": "code",
   "execution_count": 42,
   "metadata": {},
   "outputs": [
    {
     "data": {
      "text/plain": [
       "8"
      ]
     },
     "execution_count": 42,
     "metadata": {},
     "output_type": "execute_result"
    }
   ],
   "source": [
    "item_4 = iter_list.__next__()\n",
    "item_4"
   ]
  },
  {
   "cell_type": "code",
   "execution_count": 43,
   "metadata": {},
   "outputs": [
    {
     "data": {
      "text/plain": [
       "10"
      ]
     },
     "execution_count": 43,
     "metadata": {},
     "output_type": "execute_result"
    }
   ],
   "source": [
    "item_5 = iter_list.__next__()\n",
    "item_5"
   ]
  },
  {
   "cell_type": "markdown",
   "metadata": {},
   "source": [
    "## Ans - 4"
   ]
  },
  {
   "attachments": {},
   "cell_type": "markdown",
   "metadata": {},
   "source": [
    "### Generator function returns generator object and we can iterate over that object.\n",
    "### In general what happend if i want to sort any data which has around 1000 numbers in a particular list\n",
    "### then what happend the function works according logic and return a list of 1000 items at a same time.\n",
    "### But when i use yield it create a generator object and instead of returning whole list with 1000 elements\n",
    "### it stop the function execution and send the 1 sorted number or single data to where we called function in program.\n",
    "### and then come back to function and resume the execution and proceed to logic part and this process happens until 1000th element sort and give to calling function.\n",
    "### When function contains yield keyword then it becomes generator function."
   ]
  },
  {
   "cell_type": "code",
   "execution_count": 109,
   "metadata": {},
   "outputs": [],
   "source": [
    "def func1(num):\n",
    "    data = num\n",
    "    for i in range(len(num)):\n",
    "        for j in range(i,len(num)):\n",
    "            if num[i] > num[j]:\n",
    "                num[i],num[j] = num[j],num[i]\n",
    "        yield num[i]"
   ]
  },
  {
   "cell_type": "code",
   "execution_count": 110,
   "metadata": {},
   "outputs": [],
   "source": [
    "lit = [12,3,1,7,5,4,8]"
   ]
  },
  {
   "cell_type": "code",
   "execution_count": 111,
   "metadata": {},
   "outputs": [
    {
     "name": "stdout",
     "output_type": "stream",
     "text": [
      "1 3 4 5 7 8 12 "
     ]
    }
   ],
   "source": [
    "for i in func1(lit):\n",
    "    print(i,end=\" \")"
   ]
  },
  {
   "cell_type": "markdown",
   "metadata": {},
   "source": [
    "## Ans - 5"
   ]
  },
  {
   "cell_type": "code",
   "execution_count": 25,
   "metadata": {},
   "outputs": [],
   "source": [
    "def prime_number():\n",
    "    is_prime = True\n",
    "    for i in range(2,1000):\n",
    "        for j in range(2,i):\n",
    "            if i % j == 0:\n",
    "                is_prime = False\n",
    "                break\n",
    "            is_prime = True\n",
    "\n",
    "        if is_prime:\n",
    "            yield i"
   ]
  },
  {
   "cell_type": "code",
   "execution_count": 27,
   "metadata": {},
   "outputs": [],
   "source": [
    "prime_number_object = prime_number()"
   ]
  },
  {
   "cell_type": "code",
   "execution_count": 28,
   "metadata": {},
   "outputs": [
    {
     "name": "stdout",
     "output_type": "stream",
     "text": [
      "2\n",
      "3\n",
      "5\n",
      "7\n",
      "11\n",
      "13\n",
      "17\n",
      "19\n",
      "23\n",
      "29\n",
      "31\n",
      "37\n",
      "41\n",
      "43\n",
      "47\n",
      "53\n",
      "59\n",
      "61\n",
      "67\n",
      "71\n",
      "73\n"
     ]
    }
   ],
   "source": [
    "for i in range(0,21):\n",
    "    print(prime_number_object.__next__())"
   ]
  }
 ],
 "metadata": {
  "kernelspec": {
   "display_name": "Python 3",
   "language": "python",
   "name": "python3"
  },
  "language_info": {
   "codemirror_mode": {
    "name": "ipython",
    "version": 3
   },
   "file_extension": ".py",
   "mimetype": "text/x-python",
   "name": "python",
   "nbconvert_exporter": "python",
   "pygments_lexer": "ipython3",
   "version": "3.10.4"
  },
  "orig_nbformat": 4,
  "vscode": {
   "interpreter": {
    "hash": "b1cc2f36871d7e6eb33d73c9431d7dc5cd9cdf88734d533b7fc5e72b44fa56ec"
   }
  }
 },
 "nbformat": 4,
 "nbformat_minor": 2
}
