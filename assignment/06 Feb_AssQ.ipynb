{
 "cells": [
  {
   "cell_type": "markdown",
   "id": "3bfd7688-6c56-4b5b-96a4-c580ad03d12b",
   "metadata": {},
   "source": [
    "## Ans - 1"
   ]
  },
  {
   "cell_type": "code",
   "execution_count": 19,
   "id": "99f36b37-a016-44c8-a4c2-0e781565b04d",
   "metadata": {},
   "outputs": [],
   "source": [
    "list1 = [1,2,3,4, [44,55,66, True], False, (34,56,78,89,34), {1,2,3,3,2,1}, {1:34, \"key2\": [55, 67, 78, 89], 4: (45,\n",
    "22, 61, 34)}, [56, 'data science'], 'Machine Learning']"
   ]
  },
  {
   "cell_type": "code",
   "execution_count": 20,
   "id": "e3763183-9448-49cf-a00b-9437cf87be13",
   "metadata": {},
   "outputs": [],
   "source": [
    "from functools import reduce\n",
    "def list_prod(data):\n",
    "    li = []\n",
    "    for i in range(len(data)):\n",
    "        \n",
    "        if type(data[i]) == int:\n",
    "            li.append(data[i])\n",
    "        \n",
    "        elif type(data[i]) == list or type(data[i]) == tuple or type(data[i]) == set:\n",
    "        \n",
    "            numeric_items_1 = filter(lambda x: type(x) == int,data[i])\n",
    "            li.extend(numeric_items_1)\n",
    "        \n",
    "        elif type(data[i]) == dict:\n",
    "            \n",
    "            data1 = list(filter(lambda x: type(x) == int,[i for i in list(data[i].keys())]))\n",
    "            li.extend(data1)\n",
    "            \n",
    "            data2 = list(map(list,(filter(lambda x: type(x) == list or type(x) == set or type(x) == tuple,[i for i in data[i].values()]))))\n",
    "            [li.extend(i) for i in data2]\n",
    "            \n",
    "            data3 = list(filter(lambda x: type(x) == int,[i for i in data[i].values()])) \n",
    "            li.extend(data3)\n",
    "    li = list(filter(lambda x : type(x) == int,li))\n",
    "    \n",
    "    return int(reduce(lambda x,y : x*y ,li))"
   ]
  },
  {
   "cell_type": "code",
   "execution_count": 21,
   "id": "10a61337-c536-49c3-90e6-beed60b1c595",
   "metadata": {},
   "outputs": [],
   "source": [
    "data = list_prod(list1)"
   ]
  },
  {
   "cell_type": "code",
   "execution_count": 22,
   "id": "63e48a24-0cc0-4c30-890c-ba4dc5fb694a",
   "metadata": {},
   "outputs": [
    {
     "name": "stdout",
     "output_type": "stream",
     "text": [
      "Product of all numeric values : 4134711838987085478833841242112000\n"
     ]
    }
   ],
   "source": [
    "print(f\"Product of all numeric values : {data}\")"
   ]
  },
  {
   "cell_type": "markdown",
   "id": "abc04130-1d29-49dc-ad7a-686615ba402a",
   "metadata": {},
   "source": [
    "## Ans - 2"
   ]
  },
  {
   "cell_type": "code",
   "execution_count": 23,
   "id": "61054a43-f55f-4103-b392-e8c5b6eab4ec",
   "metadata": {},
   "outputs": [],
   "source": [
    "def encrypt_data(string):\n",
    "    \n",
    "    string = string.lower()\n",
    "    encrypt_str = \"\"\n",
    "\n",
    "    char_set = [chr(i) for i in range(97,123)]\n",
    "    len_char_set = len(char_set) - 1\n",
    "        \n",
    "    for ch in string:\n",
    "        # print(ch)\n",
    "        if ch == \" \":\n",
    "            encrypt_str += \"$\"\n",
    "        elif ch.isalpha():\n",
    "            encrypt_str += char_set[len_char_set-char_set.index(ch)]\n",
    "        else:\n",
    "            encrypt_str += ch\n",
    "    \n",
    "    return encrypt_str"
   ]
  },
  {
   "cell_type": "code",
   "execution_count": 24,
   "id": "0996d2d9-a5f5-4a23-9b59-5d490c592bd4",
   "metadata": {},
   "outputs": [
    {
     "data": {
      "text/plain": [
       "'r$dzmg$gl$yvxlnv$z$wzgz$hxrvmgrhg.'"
      ]
     },
     "execution_count": 24,
     "metadata": {},
     "output_type": "execute_result"
    }
   ],
   "source": [
    "message = \"I want to become a Data Scientist.\"\n",
    "encrypt_data(message)"
   ]
  },
  {
   "cell_type": "code",
   "execution_count": null,
   "id": "84eec2ee-2f44-4f51-88a1-1028139df17d",
   "metadata": {},
   "outputs": [],
   "source": []
  }
 ],
 "metadata": {
  "kernelspec": {
   "display_name": "Python 3 (ipykernel)",
   "language": "python",
   "name": "python3"
  },
  "language_info": {
   "codemirror_mode": {
    "name": "ipython",
    "version": 3
   },
   "file_extension": ".py",
   "mimetype": "text/x-python",
   "name": "python",
   "nbconvert_exporter": "python",
   "pygments_lexer": "ipython3",
   "version": "3.9.12"
  }
 },
 "nbformat": 4,
 "nbformat_minor": 5
}
