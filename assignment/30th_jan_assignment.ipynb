{
 "cells": [
  {
   "cell_type": "markdown",
   "metadata": {},
   "source": [
    "## Ans - 1"
   ]
  },
  {
   "cell_type": "code",
   "execution_count": 209,
   "metadata": {},
   "outputs": [
    {
     "name": "stdout",
     "output_type": "stream",
     "text": [
      "Enter student percentage : 91\n",
      "Grade : A\n"
     ]
    }
   ],
   "source": [
    "user_in = int(input(\"Enter student percentage : \"))\n",
    "\n",
    "if user_in > 90:\n",
    "    print('Grade : A')\n",
    "elif user_in > 80 and user_in <= 90:\n",
    "    print('Grade : B')\n",
    "elif user_in >= 60 and user_in <= 80:\n",
    "    print('Grade : C')\n",
    "else:\n",
    "    print('Grade : D')"
   ]
  },
  {
   "cell_type": "markdown",
   "metadata": {},
   "source": [
    "## Ans - 2"
   ]
  },
  {
   "cell_type": "code",
   "execution_count": 210,
   "metadata": {},
   "outputs": [
    {
     "name": "stdout",
     "output_type": "stream",
     "text": [
      "Enter the cost of bike : 12500\n",
      "Discounted price of bike : 11875.0\n"
     ]
    }
   ],
   "source": [
    "cost_bike = int(input('Enter the cost of bike : '))\n",
    "if cost_bike > 100000:\n",
    "    print('Discounted price of bike : {}'.format(cost_bike*0.85))\n",
    "elif cost_bike > 50000 and cost_bike <= 100000:\n",
    "    print('Discounted price of bike : {}'.format(cost_bike*0.90))\n",
    "else:\n",
    "    print('Discounted price of bike : {}'.format(cost_bike*0.95))"
   ]
  },
  {
   "cell_type": "markdown",
   "metadata": {},
   "source": [
    "## Ans - 3"
   ]
  },
  {
   "cell_type": "code",
   "execution_count": 211,
   "metadata": {},
   "outputs": [
    {
     "name": "stdout",
     "output_type": "stream",
     "text": [
      "Enter city name : Agra\n",
      "Monument of Agra is Taj Mahal\n"
     ]
    }
   ],
   "source": [
    "city = input('Enter city name : ')\n",
    "if city == \"Delhi\":\n",
    "    print('Monument of {} is Red Fort'.format(city))\n",
    "elif city == \"Agra\":\n",
    "    print('Monument of {} is Taj Mahal'.format(city))\n",
    "else:\n",
    "    print('Monument of {} is Jal Mahal'.format(city))"
   ]
  },
  {
   "cell_type": "markdown",
   "metadata": {},
   "source": [
    "## Ans - 4"
   ]
  },
  {
   "cell_type": "code",
   "execution_count": 13,
   "metadata": {},
   "outputs": [
    {
     "name": "stdout",
     "output_type": "stream",
     "text": [
      "Enter any number : 999\n",
      "999 is 3 times divide by 3.\n"
     ]
    }
   ],
   "source": [
    "number = int(input('Enter any number : '))\n",
    "temp = number\n",
    "count = 0\n",
    "while number >= 10:\n",
    "    if number % 3 == 0:\n",
    "        number = number / 3\n",
    "        count += 1\n",
    "    else:\n",
    "        break\n",
    "print(\"{} is {} times divide by 3.\".format(temp,count))"
   ]
  },
  {
   "cell_type": "markdown",
   "metadata": {},
   "source": [
    "## Ans - 5"
   ]
  },
  {
   "cell_type": "code",
   "execution_count": 198,
   "metadata": {},
   "outputs": [
    {
     "name": "stdout",
     "output_type": "stream",
     "text": [
      "1\n",
      "2\n",
      "3\n",
      "4\n",
      "5\n",
      "6\n",
      "7\n",
      "8\n",
      "9\n",
      "10\n"
     ]
    }
   ],
   "source": [
    "# While loop is based on condition. When we want to perform some repeated operation based on any condition\n",
    "# like when number = 0 then stop my loop.\n",
    "num = 1\n",
    "while num <= 10:\n",
    "    print(num)\n",
    "    num += 1\n",
    "\n",
    "# In above code variable num has 1 value.\n",
    "# In while loop if value of num is less than or equal to 10 while loop run until this condition is satisfied.\n",
    "# When value of num will be greater then 11 the while loop will be terminated."
   ]
  },
  {
   "cell_type": "markdown",
   "metadata": {},
   "source": [
    "## Ans - 6"
   ]
  },
  {
   "cell_type": "code",
   "execution_count": 206,
   "metadata": {},
   "outputs": [
    {
     "name": "stdout",
     "output_type": "stream",
     "text": [
      "* \n",
      "* * \n",
      "* * * \n",
      "* * * * \n",
      "* * * * * \n",
      "\n",
      "* * * * * \n",
      "* * * * \n",
      "* * * \n",
      "* * \n",
      "* \n",
      "\n",
      "* * * * * \n",
      " * * * * \n",
      "  * * * \n",
      "   * * \n",
      "    * \n",
      "\n",
      "    * \n",
      "   * * \n",
      "  * * * \n",
      " * * * * \n",
      "* * * * * \n"
     ]
    }
   ],
   "source": [
    "# Pattern - 1\n",
    "for i in range(0,5):\n",
    "    for j in range(0,i+1):\n",
    "        print(\"*\",end=\" \")\n",
    "    else:\n",
    "        print()\n",
    "\n",
    "print()\n",
    "        \n",
    "# Pattern - 2\n",
    "for i in range(4,-1,-1):\n",
    "    for j in range(0,i+1):\n",
    "        print(\"*\",end=\" \")\n",
    "    else:\n",
    "        print()\n",
    "        \n",
    "print()\n",
    "\n",
    "# Pattern - 3\n",
    "\n",
    "for i in range(1,6):\n",
    "#     print(\"-\" * (i-1),end=\"\")\n",
    "    for k in range(i-1):\n",
    "        print(\" \",end=\"\")\n",
    "    \n",
    "    for j in range(6,i,-1):\n",
    "        print(\"* \",end=\"\")\n",
    "    print()\n",
    "    \n",
    "print()\n",
    "\n",
    "# Pattern - 4\n",
    "\n",
    "for i in range(1,6):\n",
    "#     print(\"-\" * (i-1),end=\"\")\n",
    "    for j in range(5,i,-1):\n",
    "        print(\" \",end=\"\")\n",
    "\n",
    "    for k in range(i):\n",
    "        print(\"* \",end=\"\")\n",
    "        \n",
    "    print()"
   ]
  },
  {
   "cell_type": "markdown",
   "metadata": {},
   "source": [
    "## Ans - 7"
   ]
  },
  {
   "cell_type": "code",
   "execution_count": 207,
   "metadata": {},
   "outputs": [
    {
     "name": "stdout",
     "output_type": "stream",
     "text": [
      "10\n",
      "9\n",
      "8\n",
      "7\n",
      "6\n",
      "5\n",
      "4\n",
      "3\n",
      "2\n",
      "1\n"
     ]
    }
   ],
   "source": [
    "index = 10\n",
    "while not index == 0:\n",
    "    print(index)\n",
    "    index -= 1"
   ]
  },
  {
   "cell_type": "markdown",
   "metadata": {},
   "source": [
    "## Ans - 8"
   ]
  },
  {
   "cell_type": "code",
   "execution_count": 208,
   "metadata": {},
   "outputs": [
    {
     "name": "stdout",
     "output_type": "stream",
     "text": [
      "10\n",
      "9\n",
      "8\n",
      "7\n",
      "6\n",
      "5\n",
      "4\n",
      "3\n",
      "2\n",
      "1\n"
     ]
    }
   ],
   "source": [
    "for i in range(10,0,-1):\n",
    "    print(i)"
   ]
  }
 ],
 "metadata": {
  "kernelspec": {
   "display_name": "Python 3 (ipykernel)",
   "language": "python",
   "name": "python3"
  },
  "language_info": {
   "codemirror_mode": {
    "name": "ipython",
    "version": 3
   },
   "file_extension": ".py",
   "mimetype": "text/x-python",
   "name": "python",
   "nbconvert_exporter": "python",
   "pygments_lexer": "ipython3",
   "version": "3.9.12"
  },
  "vscode": {
   "interpreter": {
    "hash": "b1cc2f36871d7e6eb33d73c9431d7dc5cd9cdf88734d533b7fc5e72b44fa56ec"
   }
  }
 },
 "nbformat": 4,
 "nbformat_minor": 2
}
