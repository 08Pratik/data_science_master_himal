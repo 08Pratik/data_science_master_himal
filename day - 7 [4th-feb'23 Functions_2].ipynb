{
 "cells": [
  {
   "cell_type": "markdown",
   "id": "2e24a6be-e5a9-4010-b671-cd0fbba50d15",
   "metadata": {},
   "source": [
    "## Lambda Functions"
   ]
  },
  {
   "cell_type": "code",
   "execution_count": 1,
   "id": "e5ebb341-886d-4269-a993-c1dfcfad3792",
   "metadata": {},
   "outputs": [],
   "source": [
    "num  = 4\n",
    "p = 2"
   ]
  },
  {
   "cell_type": "code",
   "execution_count": 2,
   "id": "e1e8bc3d-4be5-4101-ad48-d577e48a6974",
   "metadata": {},
   "outputs": [],
   "source": [
    "def func1(n,p):\n",
    "    return n ** p"
   ]
  },
  {
   "cell_type": "code",
   "execution_count": 3,
   "id": "63ee83ed-b4f1-4468-a3a4-0c02087d3a4d",
   "metadata": {},
   "outputs": [
    {
     "data": {
      "text/plain": [
       "16"
      ]
     },
     "execution_count": 3,
     "metadata": {},
     "output_type": "execute_result"
    }
   ],
   "source": [
    "func1(num,p)"
   ]
  },
  {
   "cell_type": "code",
   "execution_count": 4,
   "id": "38158359-e445-4c73-b049-38b3ccee896c",
   "metadata": {},
   "outputs": [
    {
     "data": {
      "text/plain": [
       "1000"
      ]
     },
     "execution_count": 4,
     "metadata": {},
     "output_type": "execute_result"
    }
   ],
   "source": [
    "func1(10,3)"
   ]
  },
  {
   "cell_type": "code",
   "execution_count": 6,
   "id": "050f4cc3-bbb5-47a8-813c-73b09dfba471",
   "metadata": {},
   "outputs": [],
   "source": [
    "# function without name annonymous function.\n",
    "\n",
    "func2 = lambda n,p: n**p"
   ]
  },
  {
   "cell_type": "code",
   "execution_count": 12,
   "id": "74449fec-94b1-4c16-b77a-034fd34b5d0a",
   "metadata": {},
   "outputs": [
    {
     "data": {
      "text/plain": [
       "27"
      ]
     },
     "execution_count": 12,
     "metadata": {},
     "output_type": "execute_result"
    }
   ],
   "source": [
    "func2(3,3)"
   ]
  },
  {
   "cell_type": "code",
   "execution_count": 20,
   "id": "a2b2ffc1-66ab-47aa-b664-f26f1ad22bbb",
   "metadata": {},
   "outputs": [
    {
     "data": {
      "text/plain": [
       "1000"
      ]
     },
     "execution_count": 20,
     "metadata": {},
     "output_type": "execute_result"
    }
   ],
   "source": [
    "func2(10,3)"
   ]
  },
  {
   "cell_type": "code",
   "execution_count": 21,
   "id": "b89b1eef-b0d1-47f4-8883-9101a3d9f209",
   "metadata": {},
   "outputs": [],
   "source": [
    "add = lambda x,y : x+y\n",
    "sub = lambda x,y : x-y\n",
    "mul = lambda x,y : x*y\n",
    "div = lambda x,y : x/y"
   ]
  },
  {
   "cell_type": "code",
   "execution_count": 22,
   "id": "0bec7de0-9553-4731-83b7-167aa0dc3f8d",
   "metadata": {},
   "outputs": [
    {
     "data": {
      "text/plain": [
       "30"
      ]
     },
     "execution_count": 22,
     "metadata": {},
     "output_type": "execute_result"
    }
   ],
   "source": [
    "add(10,20)"
   ]
  },
  {
   "cell_type": "code",
   "execution_count": 23,
   "id": "6f6d3ba3-7186-491a-903b-d59e316811eb",
   "metadata": {},
   "outputs": [
    {
     "data": {
      "text/plain": [
       "-10"
      ]
     },
     "execution_count": 23,
     "metadata": {},
     "output_type": "execute_result"
    }
   ],
   "source": [
    "sub(10,20)"
   ]
  },
  {
   "cell_type": "code",
   "execution_count": 24,
   "id": "65e5f94d-60ed-479c-8e7a-24a2000fa1b1",
   "metadata": {},
   "outputs": [
    {
     "data": {
      "text/plain": [
       "200"
      ]
     },
     "execution_count": 24,
     "metadata": {},
     "output_type": "execute_result"
    }
   ],
   "source": [
    "mul(10,20)"
   ]
  },
  {
   "cell_type": "code",
   "execution_count": 25,
   "id": "caeba87e-b040-44ec-97ad-935a8dcc90cf",
   "metadata": {},
   "outputs": [
    {
     "data": {
      "text/plain": [
       "0.5"
      ]
     },
     "execution_count": 25,
     "metadata": {},
     "output_type": "execute_result"
    }
   ],
   "source": [
    "div(10,20)"
   ]
  },
  {
   "cell_type": "code",
   "execution_count": 34,
   "id": "12dbda5c-538c-493f-ad76-4cea142fa797",
   "metadata": {},
   "outputs": [],
   "source": [
    "cel_to_fah = lambda cel: f\"{(9/5)*cel + 32} f\""
   ]
  },
  {
   "cell_type": "code",
   "execution_count": 35,
   "id": "a25c6efc-0967-446b-b9f5-3f067f7936d5",
   "metadata": {},
   "outputs": [
    {
     "data": {
      "text/plain": [
       "'68.0 f'"
      ]
     },
     "execution_count": 35,
     "metadata": {},
     "output_type": "execute_result"
    }
   ],
   "source": [
    "cel_to_fah(20)"
   ]
  },
  {
   "cell_type": "code",
   "execution_count": 36,
   "id": "fc28f804-1404-41f1-aacd-24fd70aae044",
   "metadata": {},
   "outputs": [
    {
     "data": {
      "text/plain": [
       "'93.2 f'"
      ]
     },
     "execution_count": 36,
     "metadata": {},
     "output_type": "execute_result"
    }
   ],
   "source": [
    "cel_to_fah(34)"
   ]
  },
  {
   "cell_type": "code",
   "execution_count": 37,
   "id": "b6d92fc7-8f69-4818-ae93-0c0afe4f3426",
   "metadata": {},
   "outputs": [],
   "source": [
    "max_num = lambda x,y : max([x,y])"
   ]
  },
  {
   "cell_type": "code",
   "execution_count": 38,
   "id": "fb0fb0ed-501b-4118-959e-767f5be7f1a4",
   "metadata": {},
   "outputs": [
    {
     "data": {
      "text/plain": [
       "102"
      ]
     },
     "execution_count": 38,
     "metadata": {},
     "output_type": "execute_result"
    }
   ],
   "source": [
    "max_num(102,22)"
   ]
  },
  {
   "cell_type": "code",
   "execution_count": 39,
   "id": "2d13b4bf-ac6e-4d34-b475-0d4acbe61e20",
   "metadata": {},
   "outputs": [],
   "source": [
    "max_num_2 = lambda x,y : x if x > y else y"
   ]
  },
  {
   "cell_type": "code",
   "execution_count": 40,
   "id": "e3cdef22-58b8-4639-9187-096630c9c080",
   "metadata": {},
   "outputs": [
    {
     "data": {
      "text/plain": [
       "22"
      ]
     },
     "execution_count": 40,
     "metadata": {},
     "output_type": "execute_result"
    }
   ],
   "source": [
    "max_num_2(22,1)"
   ]
  },
  {
   "cell_type": "code",
   "execution_count": 41,
   "id": "9c6379a1-76c6-411a-a0df-670e42d46934",
   "metadata": {},
   "outputs": [],
   "source": [
    "stt = \"pwskills\""
   ]
  },
  {
   "cell_type": "code",
   "execution_count": 42,
   "id": "86ddf263-f315-4ef9-acf6-38ba41f41af8",
   "metadata": {},
   "outputs": [],
   "source": [
    "len_str = lambda stt : len(stt)"
   ]
  },
  {
   "cell_type": "code",
   "execution_count": 43,
   "id": "edd8fbd2-f31c-4b23-a7cd-d747bbe3bce0",
   "metadata": {},
   "outputs": [
    {
     "data": {
      "text/plain": [
       "8"
      ]
     },
     "execution_count": 43,
     "metadata": {},
     "output_type": "execute_result"
    }
   ],
   "source": [
    "len_str(stt)"
   ]
  },
  {
   "cell_type": "code",
   "execution_count": 44,
   "id": "eff9a6d8-3220-47c9-80a2-1ed1d3844615",
   "metadata": {},
   "outputs": [
    {
     "data": {
      "text/plain": [
       "5"
      ]
     },
     "execution_count": 44,
     "metadata": {},
     "output_type": "execute_result"
    }
   ],
   "source": [
    "len_str(\"12345\")"
   ]
  },
  {
   "cell_type": "code",
   "execution_count": 45,
   "id": "bc9e89b4-25c4-461e-80a2-bba515b1688f",
   "metadata": {},
   "outputs": [],
   "source": [
    "new_func = len_str"
   ]
  },
  {
   "cell_type": "code",
   "execution_count": 46,
   "id": "1d1925d0-9b46-488f-b187-b884dc528d76",
   "metadata": {},
   "outputs": [
    {
     "name": "stdout",
     "output_type": "stream",
     "text": [
      "Help on function <lambda> in module __main__:\n",
      "\n",
      "<lambda> lambda stt\n",
      "\n"
     ]
    }
   ],
   "source": [
    "help(new_func)"
   ]
  },
  {
   "cell_type": "code",
   "execution_count": 47,
   "id": "6a8e13fe-3c63-469d-996d-82f80956fc70",
   "metadata": {},
   "outputs": [
    {
     "name": "stdout",
     "output_type": "stream",
     "text": [
      "Help on function <lambda> in module __main__:\n",
      "\n",
      "<lambda> lambda stt\n",
      "\n"
     ]
    }
   ],
   "source": [
    "help(len_str)"
   ]
  },
  {
   "cell_type": "markdown",
   "id": "b03125c4-7b97-4c8d-ac1b-668ef4f00a75",
   "metadata": {},
   "source": [
    "## Map()"
   ]
  },
  {
   "cell_type": "code",
   "execution_count": 53,
   "id": "cebe34fb-f335-494e-81df-b08326b6a4ad",
   "metadata": {},
   "outputs": [],
   "source": [
    "li = [1,2,3,4,5,6]"
   ]
  },
  {
   "cell_type": "code",
   "execution_count": 54,
   "id": "2687d967-6465-418d-ad95-2dc41e2a2bd7",
   "metadata": {},
   "outputs": [],
   "source": [
    "def test(li):\n",
    "    li2 = []\n",
    "    for i in li:\n",
    "        li2.append(i**2)\n",
    "    return li2"
   ]
  },
  {
   "cell_type": "code",
   "execution_count": 55,
   "id": "1a1d42ae-59a7-4345-bb28-b2cb1cf2ce6e",
   "metadata": {},
   "outputs": [
    {
     "data": {
      "text/plain": [
       "[1, 4, 9, 16, 25, 36]"
      ]
     },
     "execution_count": 55,
     "metadata": {},
     "output_type": "execute_result"
    }
   ],
   "source": [
    "test(li)"
   ]
  },
  {
   "cell_type": "code",
   "execution_count": 56,
   "id": "870f492b-583c-4079-8d04-30dfa35e60e7",
   "metadata": {},
   "outputs": [],
   "source": [
    "def sq(x):\n",
    "    return x ** 2"
   ]
  },
  {
   "cell_type": "code",
   "execution_count": 60,
   "id": "157c23eb-bd25-4ccf-8ea2-7ffd785a6d8e",
   "metadata": {},
   "outputs": [
    {
     "data": {
      "text/plain": [
       "[1, 4, 9, 16, 25, 36]"
      ]
     },
     "execution_count": 60,
     "metadata": {},
     "output_type": "execute_result"
    }
   ],
   "source": [
    "list(map(sq,li))"
   ]
  },
  {
   "cell_type": "code",
   "execution_count": 61,
   "id": "d2e51194-55be-43aa-9a80-2cc9f0f79c51",
   "metadata": {},
   "outputs": [
    {
     "data": {
      "text/plain": [
       "[1, 4, 9, 16, 25, 36]"
      ]
     },
     "execution_count": 61,
     "metadata": {},
     "output_type": "execute_result"
    }
   ],
   "source": [
    "list(map(lambda x: x**2, li))"
   ]
  },
  {
   "cell_type": "code",
   "execution_count": 62,
   "id": "768c6428-6cb9-4edc-bdcc-e874cce5d67b",
   "metadata": {},
   "outputs": [
    {
     "data": {
      "text/plain": [
       "[11, 12, 13, 14, 15, 16]"
      ]
     },
     "execution_count": 62,
     "metadata": {},
     "output_type": "execute_result"
    }
   ],
   "source": [
    "list(map(lambda x: x+10, li))"
   ]
  },
  {
   "cell_type": "code",
   "execution_count": 63,
   "id": "aade912f-27de-400c-afcd-5270967a5081",
   "metadata": {},
   "outputs": [
    {
     "data": {
      "text/plain": [
       "['1', '2', '3', '4', '5', '6']"
      ]
     },
     "execution_count": 63,
     "metadata": {},
     "output_type": "execute_result"
    }
   ],
   "source": [
    "list(map(lambda x: str(x), li))"
   ]
  },
  {
   "cell_type": "code",
   "execution_count": 64,
   "id": "16682a4c-28c1-4025-925a-802ebe48b6f9",
   "metadata": {},
   "outputs": [
    {
     "data": {
      "text/plain": [
       "['1', '2', '3', '4', '5', '6']"
      ]
     },
     "execution_count": 64,
     "metadata": {},
     "output_type": "execute_result"
    }
   ],
   "source": [
    "list(map(str,li))"
   ]
  },
  {
   "cell_type": "code",
   "execution_count": 65,
   "id": "6dd72b24-71a2-48b5-a52d-c5fd43ea367f",
   "metadata": {},
   "outputs": [],
   "source": [
    "l1 = [1,2,3,4,5]\n",
    "l2 = [6,7,8,9,10]"
   ]
  },
  {
   "cell_type": "code",
   "execution_count": 73,
   "id": "2daaf602-3b70-4f29-9a87-7993156ffa11",
   "metadata": {},
   "outputs": [],
   "source": [
    "myfunc = lambda x,y:x+y"
   ]
  },
  {
   "cell_type": "code",
   "execution_count": 74,
   "id": "61a34636-123f-420d-ae29-1df816aaff12",
   "metadata": {},
   "outputs": [
    {
     "data": {
      "text/plain": [
       "[7, 9, 11, 13, 15]"
      ]
     },
     "execution_count": 74,
     "metadata": {},
     "output_type": "execute_result"
    }
   ],
   "source": [
    "list(map(myfunc,l1,l2))"
   ]
  },
  {
   "cell_type": "code",
   "execution_count": 75,
   "id": "99ba2cd3-ecbc-4907-9a8c-0fdc0c82a4f4",
   "metadata": {},
   "outputs": [],
   "source": [
    "s = \"datascience\""
   ]
  },
  {
   "cell_type": "code",
   "execution_count": 83,
   "id": "02c3375d-dbd8-4d05-aa39-e79028bd10a7",
   "metadata": {},
   "outputs": [
    {
     "data": {
      "text/plain": [
       "['D', 'A', 'T', 'A', 'S', 'C', 'I', 'E', 'N', 'C', 'E']"
      ]
     },
     "execution_count": 83,
     "metadata": {},
     "output_type": "execute_result"
    }
   ],
   "source": [
    "list(map(lambda s : s.upper(),s))"
   ]
  },
  {
   "cell_type": "markdown",
   "id": "9a9cca69-b750-4b28-a0de-9a31459058e9",
   "metadata": {},
   "source": [
    "## Reduce()"
   ]
  },
  {
   "cell_type": "code",
   "execution_count": 84,
   "id": "2ecd16bf-977c-4640-ada7-4dfd92db42e1",
   "metadata": {},
   "outputs": [],
   "source": [
    "from functools import reduce"
   ]
  },
  {
   "cell_type": "code",
   "execution_count": 85,
   "id": "50d54172-a06f-43e8-bdf0-a631a7312054",
   "metadata": {},
   "outputs": [],
   "source": [
    "l = [1,2,3,4,5,6]"
   ]
  },
  {
   "cell_type": "code",
   "execution_count": 87,
   "id": "6aefdcb6-86e9-4003-b5e6-bbdab5998d9c",
   "metadata": {},
   "outputs": [
    {
     "data": {
      "text/plain": [
       "21"
      ]
     },
     "execution_count": 87,
     "metadata": {},
     "output_type": "execute_result"
    }
   ],
   "source": [
    "reduce(lambda x,y : x+y,l)\n",
    "# (((((1+2)+3)+4)+5)+6)"
   ]
  },
  {
   "cell_type": "code",
   "execution_count": 88,
   "id": "c02fe1bc-8dee-4baa-8d73-93627d73ae2c",
   "metadata": {},
   "outputs": [],
   "source": [
    "def add_func(x,y):\n",
    "    return x+y"
   ]
  },
  {
   "cell_type": "code",
   "execution_count": 92,
   "id": "5b20c428-0546-43af-b5c9-edf7bb6c7a37",
   "metadata": {},
   "outputs": [
    {
     "data": {
      "text/plain": [
       "21"
      ]
     },
     "execution_count": 92,
     "metadata": {},
     "output_type": "execute_result"
    }
   ],
   "source": [
    "# reduce using external function.\n",
    "reduce(add_func,l)"
   ]
  },
  {
   "cell_type": "code",
   "execution_count": 99,
   "id": "4753abeb-f85e-4e0f-bb3f-7f5c4cd2e575",
   "metadata": {},
   "outputs": [
    {
     "ename": "TypeError",
     "evalue": "<lambda>() missing 1 required positional argument: 'z'",
     "output_type": "error",
     "traceback": [
      "\u001b[1;31m---------------------------------------------------------------------------\u001b[0m",
      "\u001b[1;31mTypeError\u001b[0m                                 Traceback (most recent call last)",
      "Input \u001b[1;32mIn [99]\u001b[0m, in \u001b[0;36m<cell line: 3>\u001b[1;34m()\u001b[0m\n\u001b[0;32m      1\u001b[0m \u001b[38;5;66;03m# reduce only works with two argrument because it made to find\u001b[39;00m\n\u001b[0;32m      2\u001b[0m \u001b[38;5;66;03m# out next element and sum with last value of sum.\u001b[39;00m\n\u001b[1;32m----> 3\u001b[0m \u001b[43mreduce\u001b[49m\u001b[43m(\u001b[49m\u001b[38;5;28;43;01mlambda\u001b[39;49;00m\u001b[43m \u001b[49m\u001b[43mx\u001b[49m\u001b[43m,\u001b[49m\u001b[43my\u001b[49m\u001b[43m,\u001b[49m\u001b[43mz\u001b[49m\u001b[43m:\u001b[49m\u001b[43mx\u001b[49m\u001b[38;5;241;43m+\u001b[39;49m\u001b[43my\u001b[49m\u001b[38;5;241;43m+\u001b[39;49m\u001b[43mz\u001b[49m\u001b[43m,\u001b[49m\u001b[43ml\u001b[49m\u001b[43m)\u001b[49m\n",
      "\u001b[1;31mTypeError\u001b[0m: <lambda>() missing 1 required positional argument: 'z'"
     ]
    }
   ],
   "source": [
    "# reduce only works with two argrument because it made to find\n",
    "# out next element and sum with last value of sum.\n",
    "reduce(lambda x,y,z:x+y+z,l)"
   ]
  },
  {
   "cell_type": "code",
   "execution_count": 100,
   "id": "9455652b-9eb2-4f43-bd19-1832c9c363aa",
   "metadata": {},
   "outputs": [
    {
     "data": {
      "text/plain": [
       "23"
      ]
     },
     "execution_count": 100,
     "metadata": {},
     "output_type": "execute_result"
    }
   ],
   "source": [
    "reduce(lambda x,y:x+y,l)"
   ]
  },
  {
   "cell_type": "code",
   "execution_count": 101,
   "id": "cb142e3c-60ff-405e-8322-77be09c40c28",
   "metadata": {},
   "outputs": [
    {
     "ename": "TypeError",
     "evalue": "reduce() of empty sequence with no initial value",
     "output_type": "error",
     "traceback": [
      "\u001b[1;31m---------------------------------------------------------------------------\u001b[0m",
      "\u001b[1;31mTypeError\u001b[0m                                 Traceback (most recent call last)",
      "Input \u001b[1;32mIn [101]\u001b[0m, in \u001b[0;36m<cell line: 1>\u001b[1;34m()\u001b[0m\n\u001b[1;32m----> 1\u001b[0m \u001b[43mreduce\u001b[49m\u001b[43m(\u001b[49m\u001b[38;5;28;43;01mlambda\u001b[39;49;00m\u001b[43m \u001b[49m\u001b[43mx\u001b[49m\u001b[43m,\u001b[49m\u001b[43my\u001b[49m\u001b[43m:\u001b[49m\u001b[43mx\u001b[49m\u001b[38;5;241;43m+\u001b[39;49m\u001b[43my\u001b[49m\u001b[43m,\u001b[49m\u001b[43m[\u001b[49m\u001b[43m]\u001b[49m\u001b[43m)\u001b[49m\n",
      "\u001b[1;31mTypeError\u001b[0m: reduce() of empty sequence with no initial value"
     ]
    }
   ],
   "source": [
    "reduce(lambda x,y:x+y,[])"
   ]
  },
  {
   "cell_type": "code",
   "execution_count": 103,
   "id": "b8a31318-28ba-48b5-8ce7-de88611bb9bf",
   "metadata": {},
   "outputs": [
    {
     "data": {
      "text/plain": [
       "1"
      ]
     },
     "execution_count": 103,
     "metadata": {},
     "output_type": "execute_result"
    }
   ],
   "source": [
    "# exception way\n",
    "reduce(lambda x,y:x+y,[1])"
   ]
  },
  {
   "cell_type": "code",
   "execution_count": 104,
   "id": "56e2ce63-7d92-41fe-97c0-7b7f5cd9c108",
   "metadata": {},
   "outputs": [
    {
     "data": {
      "text/plain": [
       "120"
      ]
     },
     "execution_count": 104,
     "metadata": {},
     "output_type": "execute_result"
    }
   ],
   "source": [
    "reduce(lambda x,y:x*y,range(1,6))"
   ]
  },
  {
   "cell_type": "code",
   "execution_count": 105,
   "id": "97bc3b4d-8182-4614-9af8-4b04f7e74d2d",
   "metadata": {},
   "outputs": [
    {
     "data": {
      "text/plain": [
       "[1, 2, 3, 4, 5, 6]"
      ]
     },
     "execution_count": 105,
     "metadata": {},
     "output_type": "execute_result"
    }
   ],
   "source": [
    "li"
   ]
  },
  {
   "cell_type": "code",
   "execution_count": 106,
   "id": "a02be4ae-842c-4443-9f4c-1087a87667eb",
   "metadata": {},
   "outputs": [
    {
     "data": {
      "text/plain": [
       "6"
      ]
     },
     "execution_count": 106,
     "metadata": {},
     "output_type": "execute_result"
    }
   ],
   "source": [
    "reduce(lambda x,y: x if x > y else y,l)"
   ]
  },
  {
   "cell_type": "code",
   "execution_count": 111,
   "id": "7559f762-0410-4275-9113-75a5849bacae",
   "metadata": {},
   "outputs": [],
   "source": [
    "def max_num(x,y):\n",
    "    if x > y:\n",
    "        return x\n",
    "    else:\n",
    "        return y"
   ]
  },
  {
   "cell_type": "code",
   "execution_count": 112,
   "id": "cd60d969-f31e-40ce-87ab-7c19d095a90d",
   "metadata": {},
   "outputs": [
    {
     "data": {
      "text/plain": [
       "6"
      ]
     },
     "execution_count": 112,
     "metadata": {},
     "output_type": "execute_result"
    }
   ],
   "source": [
    "reduce(max_num,l)"
   ]
  },
  {
   "cell_type": "code",
   "execution_count": 114,
   "id": "b0ed4f9a-efd8-43c6-884f-1e8a1e162147",
   "metadata": {},
   "outputs": [
    {
     "data": {
      "text/plain": [
       "[1, 2, 3, 4, 5, 6]"
      ]
     },
     "execution_count": 114,
     "metadata": {},
     "output_type": "execute_result"
    }
   ],
   "source": [
    "li"
   ]
  },
  {
   "cell_type": "code",
   "execution_count": 113,
   "id": "c84ca0a4-f885-40ca-b9c4-e55615bf4832",
   "metadata": {},
   "outputs": [
    {
     "data": {
      "text/plain": [
       "6"
      ]
     },
     "execution_count": 113,
     "metadata": {},
     "output_type": "execute_result"
    }
   ],
   "source": [
    "data = lambda x,y: x if x > y else y\n",
    "reduce(data,li)"
   ]
  },
  {
   "cell_type": "markdown",
   "id": "823a189f-b5ce-470f-a251-9b900e8ff5f6",
   "metadata": {},
   "source": [
    "## Filter()"
   ]
  },
  {
   "cell_type": "code",
   "execution_count": 122,
   "id": "9704c82a-c06d-48e3-be42-3408eb6dbedd",
   "metadata": {},
   "outputs": [
    {
     "data": {
      "text/plain": [
       "[2, 4, 6]"
      ]
     },
     "execution_count": 122,
     "metadata": {},
     "output_type": "execute_result"
    }
   ],
   "source": [
    "list(filter(lambda x: x % 2 == 0,li))"
   ]
  },
  {
   "cell_type": "code",
   "execution_count": 124,
   "id": "b19333da-9e00-4db9-a3b4-30639566c1bc",
   "metadata": {},
   "outputs": [
    {
     "data": {
      "text/plain": [
       "[1, 3, 5]"
      ]
     },
     "execution_count": 124,
     "metadata": {},
     "output_type": "execute_result"
    }
   ],
   "source": [
    "list(filter(lambda x: not x % 2 == 0,li))"
   ]
  },
  {
   "cell_type": "code",
   "execution_count": 125,
   "id": "5cf81065-9127-4fde-b073-ec196c1461ab",
   "metadata": {},
   "outputs": [
    {
     "data": {
      "text/plain": [
       "[1, 3, 5]"
      ]
     },
     "execution_count": 125,
     "metadata": {},
     "output_type": "execute_result"
    }
   ],
   "source": [
    "list(filter(lambda x: x % 2 != 0,li))"
   ]
  },
  {
   "cell_type": "code",
   "execution_count": 127,
   "id": "cecbe2ca-f81f-4f95-9399-d794071c1197",
   "metadata": {},
   "outputs": [],
   "source": [
    "li2 = [1,-2,0,3-1,2]"
   ]
  },
  {
   "cell_type": "code",
   "execution_count": 128,
   "id": "6d434f77-e247-4d0e-b14c-906e2c351c9a",
   "metadata": {},
   "outputs": [
    {
     "data": {
      "text/plain": [
       "[1, 2, 2]"
      ]
     },
     "execution_count": 128,
     "metadata": {},
     "output_type": "execute_result"
    }
   ],
   "source": [
    "list(filter(lambda x: x > 0,li2))"
   ]
  },
  {
   "cell_type": "code",
   "execution_count": 134,
   "id": "ff0ef0e1-a2bd-423e-a394-e36671db78ca",
   "metadata": {},
   "outputs": [
    {
     "data": {
      "text/plain": [
       "[-2]"
      ]
     },
     "execution_count": 134,
     "metadata": {},
     "output_type": "execute_result"
    }
   ],
   "source": [
    "list(filter(lambda x: x < 0,li2))"
   ]
  },
  {
   "cell_type": "code",
   "execution_count": 135,
   "id": "3d31efda-b3a8-46d0-89c9-542d7b62b8ef",
   "metadata": {},
   "outputs": [
    {
     "data": {
      "text/plain": [
       "[0]"
      ]
     },
     "execution_count": 135,
     "metadata": {},
     "output_type": "execute_result"
    }
   ],
   "source": [
    "list(filter(lambda x: x == 0,li2))"
   ]
  },
  {
   "cell_type": "code",
   "execution_count": 136,
   "id": "e40c5f3a-76a3-47bb-839c-9b069b076309",
   "metadata": {},
   "outputs": [],
   "source": [
    "l2 = [\"himal\",\"pwskills\",\"ahmedabad\",\"devansh\"]"
   ]
  },
  {
   "cell_type": "code",
   "execution_count": 137,
   "id": "dfe81b48-9bae-4676-8fd7-2d9b4c87fd60",
   "metadata": {},
   "outputs": [
    {
     "data": {
      "text/plain": [
       "['himal']"
      ]
     },
     "execution_count": 137,
     "metadata": {},
     "output_type": "execute_result"
    }
   ],
   "source": [
    "list(filter(lambda x: len(x) < 6,l2))"
   ]
  },
  {
   "cell_type": "code",
   "execution_count": null,
   "id": "c208fea8-471d-4967-a03a-a77378cab4fd",
   "metadata": {},
   "outputs": [],
   "source": []
  }
 ],
 "metadata": {
  "kernelspec": {
   "display_name": "Python 3 (ipykernel)",
   "language": "python",
   "name": "python3"
  },
  "language_info": {
   "codemirror_mode": {
    "name": "ipython",
    "version": 3
   },
   "file_extension": ".py",
   "mimetype": "text/x-python",
   "name": "python",
   "nbconvert_exporter": "python",
   "pygments_lexer": "ipython3",
   "version": "3.9.12"
  },
  "toc-autonumbering": true,
  "toc-showcode": true,
  "toc-showmarkdowntxt": true
 },
 "nbformat": 4,
 "nbformat_minor": 5
}
