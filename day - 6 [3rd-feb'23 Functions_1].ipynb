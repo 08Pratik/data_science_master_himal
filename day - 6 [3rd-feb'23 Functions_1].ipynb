{
 "cells": [
  {
   "cell_type": "markdown",
   "id": "e2a65396-3d66-42fa-ab6d-0bcb905b70e4",
   "metadata": {},
   "source": [
    "## Functions"
   ]
  },
  {
   "cell_type": "code",
   "execution_count": null,
   "id": "07dfe802-0965-4c9b-a03e-58153a2c9031",
   "metadata": {},
   "outputs": [],
   "source": [
    "print(\"This is print function\")"
   ]
  },
  {
   "cell_type": "code",
   "execution_count": 3,
   "id": "8b42e3a1-9c99-47ca-a4e9-6d0eccd5c9fa",
   "metadata": {},
   "outputs": [
    {
     "data": {
      "text/plain": [
       "4"
      ]
     },
     "execution_count": 3,
     "metadata": {},
     "output_type": "execute_result"
    }
   ],
   "source": [
    "l = [1,2,3,4]\n",
    "len(l)"
   ]
  },
  {
   "cell_type": "code",
   "execution_count": 5,
   "id": "55a7546e-7b04-4c4a-8915-652ca9122ee2",
   "metadata": {},
   "outputs": [],
   "source": [
    "def test():\n",
    "    pass"
   ]
  },
  {
   "cell_type": "code",
   "execution_count": 7,
   "id": "b99d066c-f571-4d96-8643-b686cb2f02c2",
   "metadata": {},
   "outputs": [],
   "source": [
    "def test1():\n",
    "    print(\"This is first function\")"
   ]
  },
  {
   "cell_type": "code",
   "execution_count": 8,
   "id": "647ee101-08b6-4002-8c97-29a3d702db6d",
   "metadata": {},
   "outputs": [
    {
     "name": "stdout",
     "output_type": "stream",
     "text": [
      "This is first function\n"
     ]
    }
   ],
   "source": [
    "test1()"
   ]
  },
  {
   "cell_type": "code",
   "execution_count": 9,
   "id": "2a0e7000-af9f-4f77-a4ca-4bce954fcd86",
   "metadata": {},
   "outputs": [
    {
     "name": "stdout",
     "output_type": "stream",
     "text": [
      "This is first function\n"
     ]
    },
    {
     "ename": "TypeError",
     "evalue": "unsupported operand type(s) for +: 'NoneType' and 'str'",
     "output_type": "error",
     "traceback": [
      "\u001b[1;31m---------------------------------------------------------------------------\u001b[0m",
      "\u001b[1;31mTypeError\u001b[0m                                 Traceback (most recent call last)",
      "Input \u001b[1;32mIn [9]\u001b[0m, in \u001b[0;36m<cell line: 1>\u001b[1;34m()\u001b[0m\n\u001b[1;32m----> 1\u001b[0m \u001b[43mtest1\u001b[49m\u001b[43m(\u001b[49m\u001b[43m)\u001b[49m\u001b[43m \u001b[49m\u001b[38;5;241;43m+\u001b[39;49m\u001b[43m \u001b[49m\u001b[38;5;124;43m\"\u001b[39;49m\u001b[38;5;124;43mhimal\u001b[39;49m\u001b[38;5;124;43m\"\u001b[39;49m\n",
      "\u001b[1;31mTypeError\u001b[0m: unsupported operand type(s) for +: 'NoneType' and 'str'"
     ]
    }
   ],
   "source": [
    "test1() + \"himal\""
   ]
  },
  {
   "cell_type": "code",
   "execution_count": 10,
   "id": "0333e6f9-0346-4a6c-b6b6-ded8b41f9477",
   "metadata": {},
   "outputs": [],
   "source": [
    "def test2():\n",
    "    return \"this is function with return\""
   ]
  },
  {
   "cell_type": "code",
   "execution_count": 11,
   "id": "a4191061-d37c-465f-b81c-cc17f646e572",
   "metadata": {},
   "outputs": [
    {
     "data": {
      "text/plain": [
       "'this is function with return'"
      ]
     },
     "execution_count": 11,
     "metadata": {},
     "output_type": "execute_result"
    }
   ],
   "source": [
    "test2()"
   ]
  },
  {
   "cell_type": "code",
   "execution_count": 12,
   "id": "15c51c91-124b-452f-8581-96b89c4c985d",
   "metadata": {},
   "outputs": [
    {
     "data": {
      "text/plain": [
       "'this is function with returnhimal'"
      ]
     },
     "execution_count": 12,
     "metadata": {},
     "output_type": "execute_result"
    }
   ],
   "source": [
    "test2() + \"himal\""
   ]
  },
  {
   "cell_type": "code",
   "execution_count": 13,
   "id": "256d4ae9-b93b-4d78-aaab-2b64ae3391ee",
   "metadata": {},
   "outputs": [],
   "source": [
    "def test3():\n",
    "    return 1,2,\"himal mevada\",True"
   ]
  },
  {
   "cell_type": "code",
   "execution_count": 14,
   "id": "933f5f3f-6912-41e2-b87c-f7d3558f6ca1",
   "metadata": {},
   "outputs": [
    {
     "data": {
      "text/plain": [
       "(1, 2, 'himal mevada', True)"
      ]
     },
     "execution_count": 14,
     "metadata": {},
     "output_type": "execute_result"
    }
   ],
   "source": [
    "test3()"
   ]
  },
  {
   "cell_type": "code",
   "execution_count": 15,
   "id": "a12794a0-3877-4e25-a02e-f37cae4f2691",
   "metadata": {},
   "outputs": [],
   "source": [
    "data = 1,2,3,4,5"
   ]
  },
  {
   "cell_type": "code",
   "execution_count": 16,
   "id": "edb2795d-36bc-4804-a608-30133e442c50",
   "metadata": {},
   "outputs": [
    {
     "data": {
      "text/plain": [
       "(1, 2, 3, 4, 5)"
      ]
     },
     "execution_count": 16,
     "metadata": {},
     "output_type": "execute_result"
    }
   ],
   "source": [
    "data"
   ]
  },
  {
   "cell_type": "code",
   "execution_count": 17,
   "id": "d335af7d-b89a-4355-9f11-9ce1d2d8fd06",
   "metadata": {},
   "outputs": [
    {
     "data": {
      "text/plain": [
       "tuple"
      ]
     },
     "execution_count": 17,
     "metadata": {},
     "output_type": "execute_result"
    }
   ],
   "source": [
    "type(data)"
   ]
  },
  {
   "cell_type": "code",
   "execution_count": 18,
   "id": "628e1a7f-a868-4917-9c4a-3fc8931cf7a3",
   "metadata": {},
   "outputs": [],
   "source": [
    "a,b,c,d,e = 1,2,True,\"Himal\",1.2"
   ]
  },
  {
   "cell_type": "code",
   "execution_count": 19,
   "id": "0effd39e-6ed1-47fa-8bab-5c73727f37d7",
   "metadata": {},
   "outputs": [
    {
     "data": {
      "text/plain": [
       "(1, 2, True, 'Himal', 1.2)"
      ]
     },
     "execution_count": 19,
     "metadata": {},
     "output_type": "execute_result"
    }
   ],
   "source": [
    "a,b,c,d,e"
   ]
  },
  {
   "cell_type": "code",
   "execution_count": 20,
   "id": "62fc4655-3e75-4ce6-a115-b991640769cf",
   "metadata": {},
   "outputs": [
    {
     "data": {
      "text/plain": [
       "1"
      ]
     },
     "execution_count": 20,
     "metadata": {},
     "output_type": "execute_result"
    }
   ],
   "source": [
    "a"
   ]
  },
  {
   "cell_type": "code",
   "execution_count": 21,
   "id": "e299496a-9621-4188-8c86-09d3c1a6e3d3",
   "metadata": {},
   "outputs": [
    {
     "data": {
      "text/plain": [
       "2"
      ]
     },
     "execution_count": 21,
     "metadata": {},
     "output_type": "execute_result"
    }
   ],
   "source": [
    "b"
   ]
  },
  {
   "cell_type": "code",
   "execution_count": 22,
   "id": "704c919e-2220-494d-b110-8320d96e911f",
   "metadata": {},
   "outputs": [
    {
     "data": {
      "text/plain": [
       "True"
      ]
     },
     "execution_count": 22,
     "metadata": {},
     "output_type": "execute_result"
    }
   ],
   "source": [
    "c"
   ]
  },
  {
   "cell_type": "code",
   "execution_count": 23,
   "id": "317ffb9a-cd88-445a-95e8-5d564db0f016",
   "metadata": {},
   "outputs": [
    {
     "data": {
      "text/plain": [
       "'Himal'"
      ]
     },
     "execution_count": 23,
     "metadata": {},
     "output_type": "execute_result"
    }
   ],
   "source": [
    "d"
   ]
  },
  {
   "cell_type": "code",
   "execution_count": 24,
   "id": "847289cf-b1f2-4f6e-96a9-b91763ef056e",
   "metadata": {},
   "outputs": [
    {
     "data": {
      "text/plain": [
       "1.2"
      ]
     },
     "execution_count": 24,
     "metadata": {},
     "output_type": "execute_result"
    }
   ],
   "source": [
    "e"
   ]
  },
  {
   "cell_type": "code",
   "execution_count": 25,
   "id": "e9de70cc-b399-41b5-8687-44a80837e31f",
   "metadata": {},
   "outputs": [
    {
     "data": {
      "text/plain": [
       "(1, 2, 'himal mevada', True)"
      ]
     },
     "execution_count": 25,
     "metadata": {},
     "output_type": "execute_result"
    }
   ],
   "source": [
    "test3()"
   ]
  },
  {
   "cell_type": "code",
   "execution_count": 26,
   "id": "17ce462b-d0cd-4179-91f2-0b538500ca92",
   "metadata": {},
   "outputs": [
    {
     "data": {
      "text/plain": [
       "1"
      ]
     },
     "execution_count": 26,
     "metadata": {},
     "output_type": "execute_result"
    }
   ],
   "source": [
    "test3()[0]"
   ]
  },
  {
   "cell_type": "code",
   "execution_count": 27,
   "id": "867824d2-7cf6-4cb1-b118-e680c96c9596",
   "metadata": {},
   "outputs": [
    {
     "data": {
      "text/plain": [
       "2"
      ]
     },
     "execution_count": 27,
     "metadata": {},
     "output_type": "execute_result"
    }
   ],
   "source": [
    "test3()[1]"
   ]
  },
  {
   "cell_type": "code",
   "execution_count": 28,
   "id": "a9801e07-d4fe-48b4-a56c-0a85821452c0",
   "metadata": {},
   "outputs": [
    {
     "data": {
      "text/plain": [
       "'himal mevada'"
      ]
     },
     "execution_count": 28,
     "metadata": {},
     "output_type": "execute_result"
    }
   ],
   "source": [
    "test3()[2]"
   ]
  },
  {
   "cell_type": "code",
   "execution_count": 29,
   "id": "b7524a87-832e-44ed-ac92-fb94d0ca3330",
   "metadata": {},
   "outputs": [
    {
     "data": {
      "text/plain": [
       "True"
      ]
     },
     "execution_count": 29,
     "metadata": {},
     "output_type": "execute_result"
    }
   ],
   "source": [
    "test3()[3]"
   ]
  },
  {
   "cell_type": "code",
   "execution_count": 31,
   "id": "2f501567-ed53-4f2e-9e7a-81720ad01160",
   "metadata": {},
   "outputs": [
    {
     "data": {
      "text/plain": [
       "(True, 'himal mevada', 2, 1)"
      ]
     },
     "execution_count": 31,
     "metadata": {},
     "output_type": "execute_result"
    }
   ],
   "source": [
    "test3()[::-1]"
   ]
  },
  {
   "cell_type": "code",
   "execution_count": 32,
   "id": "49843a49-3d2a-40bb-9588-c3c78370d67a",
   "metadata": {},
   "outputs": [],
   "source": [
    "q,w,e,r = test3()"
   ]
  },
  {
   "cell_type": "code",
   "execution_count": 33,
   "id": "5a2dc98a-04eb-4bff-a180-266a4a39dbdc",
   "metadata": {},
   "outputs": [
    {
     "data": {
      "text/plain": [
       "(1, 2, 'himal mevada', True)"
      ]
     },
     "execution_count": 33,
     "metadata": {},
     "output_type": "execute_result"
    }
   ],
   "source": [
    "q,w,e,r"
   ]
  },
  {
   "cell_type": "code",
   "execution_count": 36,
   "id": "586e70ff-cbb5-457d-8cac-5b7c8c794060",
   "metadata": {},
   "outputs": [],
   "source": [
    "def test4():\n",
    "    a = 2 * 5 + 7\n",
    "    return a"
   ]
  },
  {
   "cell_type": "code",
   "execution_count": 37,
   "id": "1a547012-ca2b-470b-bfb8-5ebddbfb9c5a",
   "metadata": {},
   "outputs": [
    {
     "data": {
      "text/plain": [
       "17"
      ]
     },
     "execution_count": 37,
     "metadata": {},
     "output_type": "execute_result"
    }
   ],
   "source": [
    "test4()"
   ]
  },
  {
   "cell_type": "code",
   "execution_count": 38,
   "id": "f0bd3d47-00ea-46de-9455-cfbe394818ab",
   "metadata": {},
   "outputs": [
    {
     "data": {
      "text/plain": [
       "function"
      ]
     },
     "execution_count": 38,
     "metadata": {},
     "output_type": "execute_result"
    }
   ],
   "source": [
    "type(test4)"
   ]
  },
  {
   "cell_type": "code",
   "execution_count": 39,
   "id": "64dca113-6272-4f2c-942a-a6d2374c777c",
   "metadata": {},
   "outputs": [
    {
     "data": {
      "text/plain": [
       "int"
      ]
     },
     "execution_count": 39,
     "metadata": {},
     "output_type": "execute_result"
    }
   ],
   "source": [
    "type(test4())"
   ]
  },
  {
   "cell_type": "code",
   "execution_count": 40,
   "id": "68097064-cb07-428f-911c-d03e045f9dbb",
   "metadata": {},
   "outputs": [],
   "source": [
    "def test5(a,b):\n",
    "    c = a + b\n",
    "    return c"
   ]
  },
  {
   "cell_type": "code",
   "execution_count": 43,
   "id": "66322b17-ca24-4fc5-8733-17ec34b17271",
   "metadata": {},
   "outputs": [
    {
     "data": {
      "text/plain": [
       "9"
      ]
     },
     "execution_count": 43,
     "metadata": {},
     "output_type": "execute_result"
    }
   ],
   "source": [
    "test5(4,5)"
   ]
  },
  {
   "cell_type": "code",
   "execution_count": 45,
   "id": "60cfd39d-e610-444e-8e94-5f2afd8dcf07",
   "metadata": {},
   "outputs": [
    {
     "data": {
      "text/plain": [
       "'himalmevada'"
      ]
     },
     "execution_count": 45,
     "metadata": {},
     "output_type": "execute_result"
    }
   ],
   "source": [
    "test5(\"himal\",\"mevada\")"
   ]
  },
  {
   "cell_type": "code",
   "execution_count": 46,
   "id": "76228776-bb49-4e01-9f68-60455de3df65",
   "metadata": {},
   "outputs": [
    {
     "data": {
      "text/plain": [
       "[1, 2, 3, 4, 6, 5, 7, 8]"
      ]
     },
     "execution_count": 46,
     "metadata": {},
     "output_type": "execute_result"
    }
   ],
   "source": [
    "test5([1,2,3,4],[6,5,7,8])"
   ]
  },
  {
   "cell_type": "code",
   "execution_count": 47,
   "id": "b8b507b9-17b4-4710-af60-d22abaea5e32",
   "metadata": {},
   "outputs": [
    {
     "data": {
      "text/plain": [
       "(1, 2, 3, 4, 6, 5, 7, 8)"
      ]
     },
     "execution_count": 47,
     "metadata": {},
     "output_type": "execute_result"
    }
   ],
   "source": [
    "test5((1,2,3,4),(6,5,7,8))"
   ]
  },
  {
   "cell_type": "code",
   "execution_count": 58,
   "id": "1b541646-aa34-43d0-930a-8de9793d82d6",
   "metadata": {},
   "outputs": [
    {
     "data": {
      "text/plain": [
       "'mevadahimal'"
      ]
     },
     "execution_count": 58,
     "metadata": {},
     "output_type": "execute_result"
    }
   ],
   "source": [
    "test5(b=\"himal\",a=\"mevada\")"
   ]
  },
  {
   "cell_type": "code",
   "execution_count": 68,
   "id": "1f4ffdcd-1acf-42df-91be-0d01b8ece72d",
   "metadata": {},
   "outputs": [],
   "source": [
    "l1 = [1,2,3,4,5,\"himal\",33.222,\"pwskills\",[12,21,23,43]]"
   ]
  },
  {
   "cell_type": "code",
   "execution_count": 69,
   "id": "7dd99453-8efc-4e9c-a555-6de3f05b898a",
   "metadata": {},
   "outputs": [],
   "source": [
    "# create a function which will take list as a input and give me a final list with all the numeric value.\n",
    "def get_numeric_value(data):\n",
    "    num_data = []\n",
    "    for i in data:\n",
    "        if type(i) == int or type(i) == float:\n",
    "            num_data.append(i)\n",
    "    return num_data"
   ]
  },
  {
   "cell_type": "code",
   "execution_count": 71,
   "id": "b8d3e4a1-439d-405c-a864-ec2b9b5ed427",
   "metadata": {},
   "outputs": [
    {
     "data": {
      "text/plain": [
       "[1, 2, 3, 4, 5, 33.222]"
      ]
     },
     "execution_count": 71,
     "metadata": {},
     "output_type": "execute_result"
    }
   ],
   "source": [
    "get_numeric_value(l1)"
   ]
  },
  {
   "cell_type": "code",
   "execution_count": 81,
   "id": "708b895f-43a6-4769-9d46-c77ab0a658e2",
   "metadata": {},
   "outputs": [],
   "source": [
    "# create a function which will take list as a input and give me a final list with all the numeric value.\n",
    "def get_numeric_value_2(data):\n",
    "    num_data = []\n",
    "    for i in data:\n",
    "        if type(i) == list:\n",
    "            for j in i:\n",
    "                if type(j) == int or type(j) == float:\n",
    "                    num_data.append(j)\n",
    "        else:\n",
    "            if type(i) == int or type(i) == float:\n",
    "                num_data.append(i)\n",
    "    return num_data"
   ]
  },
  {
   "cell_type": "code",
   "execution_count": 82,
   "id": "5a2200a4-b9de-4e28-ae2f-aa6bdee56c9d",
   "metadata": {},
   "outputs": [
    {
     "data": {
      "text/plain": [
       "[1, 2, 3, 4, 5, 33.222, 12, 21, 23, 43]"
      ]
     },
     "execution_count": 82,
     "metadata": {},
     "output_type": "execute_result"
    }
   ],
   "source": [
    "get_numeric_value_2(l1)"
   ]
  },
  {
   "cell_type": "code",
   "execution_count": 83,
   "id": "04276395-4568-4d29-a689-964ab0b0649f",
   "metadata": {},
   "outputs": [],
   "source": [
    "def test6(param1,param2,param3):\n",
    "    pass"
   ]
  },
  {
   "cell_type": "code",
   "execution_count": 84,
   "id": "f669dfb5-1198-4648-8b1e-7ad5e6d01eb2",
   "metadata": {},
   "outputs": [],
   "source": [
    "test6(1,2,3)"
   ]
  },
  {
   "cell_type": "code",
   "execution_count": 85,
   "id": "62bc307b-92ed-4ff5-80eb-af9c072cddd5",
   "metadata": {},
   "outputs": [
    {
     "ename": "TypeError",
     "evalue": "test6() takes 3 positional arguments but 5 were given",
     "output_type": "error",
     "traceback": [
      "\u001b[1;31m---------------------------------------------------------------------------\u001b[0m",
      "\u001b[1;31mTypeError\u001b[0m                                 Traceback (most recent call last)",
      "Input \u001b[1;32mIn [85]\u001b[0m, in \u001b[0;36m<cell line: 1>\u001b[1;34m()\u001b[0m\n\u001b[1;32m----> 1\u001b[0m \u001b[43mtest6\u001b[49m\u001b[43m(\u001b[49m\u001b[38;5;241;43m1\u001b[39;49m\u001b[43m,\u001b[49m\u001b[38;5;241;43m2\u001b[39;49m\u001b[43m,\u001b[49m\u001b[38;5;241;43m3\u001b[39;49m\u001b[43m,\u001b[49m\u001b[38;5;241;43m4\u001b[39;49m\u001b[43m,\u001b[49m\u001b[38;5;241;43m5\u001b[39;49m\u001b[43m)\u001b[49m\n",
      "\u001b[1;31mTypeError\u001b[0m: test6() takes 3 positional arguments but 5 were given"
     ]
    }
   ],
   "source": [
    "test6(1,2,3,4,5)"
   ]
  },
  {
   "cell_type": "code",
   "execution_count": 95,
   "id": "cde2d289-f32d-41e2-a494-8018a832262a",
   "metadata": {},
   "outputs": [],
   "source": [
    "# Arbitary argument : *args any number of argument and return as tuple.\n",
    "def test7(*data):\n",
    "    return data"
   ]
  },
  {
   "cell_type": "code",
   "execution_count": 96,
   "id": "75a2f7f9-42c9-449e-8c97-ce3c7d31f94e",
   "metadata": {},
   "outputs": [
    {
     "data": {
      "text/plain": [
       "(['sudh', 'himal', 12, 3, 4],)"
      ]
     },
     "execution_count": 96,
     "metadata": {},
     "output_type": "execute_result"
    }
   ],
   "source": [
    "test7([\"sudh\",\"himal\",12,3,4])"
   ]
  },
  {
   "cell_type": "code",
   "execution_count": 98,
   "id": "ec97f68d-b69c-45f6-8b65-84270360044e",
   "metadata": {},
   "outputs": [],
   "source": [
    "def test8(*args,name):\n",
    "    return args,name"
   ]
  },
  {
   "cell_type": "code",
   "execution_count": 99,
   "id": "072dd2bf-fca8-4aa7-9be2-67be174e6c65",
   "metadata": {},
   "outputs": [
    {
     "data": {
      "text/plain": [
       "((1, 2, 3), 'Himal')"
      ]
     },
     "execution_count": 99,
     "metadata": {},
     "output_type": "execute_result"
    }
   ],
   "source": [
    "test8(1,2,3,name=\"Himal\")"
   ]
  },
  {
   "cell_type": "code",
   "execution_count": 100,
   "id": "f801ca5a-651a-4e12-893a-85b11205148f",
   "metadata": {},
   "outputs": [],
   "source": [
    "def test9(*args):\n",
    "    l = []\n",
    "    for i in args:\n",
    "        if type(i) == list:\n",
    "            l.append(i)\n",
    "    return l"
   ]
  },
  {
   "cell_type": "code",
   "execution_count": 101,
   "id": "663b91ea-1d04-4e55-be84-77ba31e2dfe3",
   "metadata": {},
   "outputs": [
    {
     "data": {
      "text/plain": [
       "[[66, 55, 44]]"
      ]
     },
     "execution_count": 101,
     "metadata": {},
     "output_type": "execute_result"
    }
   ],
   "source": [
    "test9(1,2,3,4,[66,55,44],{3,4,5},(77,88,99),True)"
   ]
  },
  {
   "cell_type": "code",
   "execution_count": 107,
   "id": "b3622f91-077d-4676-bf2c-9087ea521367",
   "metadata": {},
   "outputs": [],
   "source": [
    "def test10(**kwargs):\n",
    "    return kwargs"
   ]
  },
  {
   "cell_type": "code",
   "execution_count": 114,
   "id": "d788cc39-dc8e-4205-b335-5a5f7878f09c",
   "metadata": {},
   "outputs": [],
   "source": [
    "data = test10(name=\"himal\",age=20,city=\"ahmedabad\",skills=[\"PYTHON\",\"PHP\"])"
   ]
  },
  {
   "cell_type": "code",
   "execution_count": 115,
   "id": "a46fa1cf-bbdd-44a0-aa58-3217e562f7a2",
   "metadata": {},
   "outputs": [
    {
     "data": {
      "text/plain": [
       "dict"
      ]
     },
     "execution_count": 115,
     "metadata": {},
     "output_type": "execute_result"
    }
   ],
   "source": [
    "type(data)"
   ]
  },
  {
   "cell_type": "code",
   "execution_count": 117,
   "id": "0011da7d-6531-4656-bf31-6dd10d8e3cd0",
   "metadata": {},
   "outputs": [
    {
     "data": {
      "text/plain": [
       "'himal'"
      ]
     },
     "execution_count": 117,
     "metadata": {},
     "output_type": "execute_result"
    }
   ],
   "source": [
    "data['name']"
   ]
  },
  {
   "cell_type": "code",
   "execution_count": 118,
   "id": "8d3a52a5-dbb7-4950-9526-a95527d65aa7",
   "metadata": {},
   "outputs": [
    {
     "data": {
      "text/plain": [
       "dict_items([('name', 'himal'), ('age', 20), ('city', 'ahmedabad'), ('skills', ['PYTHON', 'PHP'])])"
      ]
     },
     "execution_count": 118,
     "metadata": {},
     "output_type": "execute_result"
    }
   ],
   "source": [
    "data.items()"
   ]
  },
  {
   "cell_type": "code",
   "execution_count": 119,
   "id": "1a04d1be-a202-4077-b3f7-f9e69f40af16",
   "metadata": {},
   "outputs": [
    {
     "data": {
      "text/plain": [
       "dict_keys(['name', 'age', 'city', 'skills'])"
      ]
     },
     "execution_count": 119,
     "metadata": {},
     "output_type": "execute_result"
    }
   ],
   "source": [
    "data.keys()"
   ]
  },
  {
   "cell_type": "code",
   "execution_count": 120,
   "id": "9ffde83b-1112-4adf-9f47-b5ad9ea252b6",
   "metadata": {},
   "outputs": [
    {
     "data": {
      "text/plain": [
       "dict_values(['himal', 20, 'ahmedabad', ['PYTHON', 'PHP']])"
      ]
     },
     "execution_count": 120,
     "metadata": {},
     "output_type": "execute_result"
    }
   ],
   "source": [
    "data.values()"
   ]
  },
  {
   "cell_type": "code",
   "execution_count": 129,
   "id": "b7ae9b3a-69c9-488c-a527-a37613f011c4",
   "metadata": {},
   "outputs": [],
   "source": [
    "def ret_list(**kwargs):\n",
    "    list1 = []\n",
    "    for i in kwargs:\n",
    "        if type(kwargs[i]) == list:\n",
    "            list1.append(kwargs[i])\n",
    "    return list1"
   ]
  },
  {
   "cell_type": "code",
   "execution_count": 130,
   "id": "1b4a4129-f96b-4580-94f5-3950c914ad45",
   "metadata": {},
   "outputs": [
    {
     "data": {
      "text/plain": [
       "[['PYTHON', 'PHP']]"
      ]
     },
     "execution_count": 130,
     "metadata": {},
     "output_type": "execute_result"
    }
   ],
   "source": [
    "ret_list(name=\"himal\",age=20,city=\"ahmedabad\",skills=[\"PYTHON\",\"PHP\"])"
   ]
  },
  {
   "cell_type": "code",
   "execution_count": 131,
   "id": "9e96d49b-09c6-49d0-ba2a-a9a8b3595139",
   "metadata": {},
   "outputs": [],
   "source": [
    "def both_data(*args,**kwargs):\n",
    "    return args,kwargs"
   ]
  },
  {
   "cell_type": "code",
   "execution_count": 132,
   "id": "7a95d713-69f4-4dad-99f9-3876c33247b0",
   "metadata": {},
   "outputs": [
    {
     "data": {
      "text/plain": [
       "((1, 2, 3, 4), {'name': 'himal', 'age': '21'})"
      ]
     },
     "execution_count": 132,
     "metadata": {},
     "output_type": "execute_result"
    }
   ],
   "source": [
    "both_data(1,2,3,4,name=\"himal\",age=\"21\")"
   ]
  },
  {
   "cell_type": "code",
   "execution_count": 135,
   "id": "1cc71ec2-895d-4c63-aa9d-9a6ff17466e3",
   "metadata": {},
   "outputs": [],
   "source": [
    "# Generator Functions"
   ]
  },
  {
   "cell_type": "code",
   "execution_count": 136,
   "id": "cb7941ac-ac7f-4b4a-a833-199c03f13960",
   "metadata": {},
   "outputs": [
    {
     "data": {
      "text/plain": [
       "range(1, 10)"
      ]
     },
     "execution_count": 136,
     "metadata": {},
     "output_type": "execute_result"
    }
   ],
   "source": [
    "range(1,10)"
   ]
  },
  {
   "cell_type": "code",
   "execution_count": 12,
   "id": "cf9ff4ef-2577-4c70-8401-507bb06c3540",
   "metadata": {},
   "outputs": [],
   "source": [
    "def fun1(name=\"himal\",age=20):\n",
    "    return name,age"
   ]
  },
  {
   "cell_type": "code",
   "execution_count": 13,
   "id": "95625562-dd68-42ea-ab2d-28324750fbcb",
   "metadata": {},
   "outputs": [
    {
     "data": {
      "text/plain": [
       "('Jay', 32)"
      ]
     },
     "execution_count": 13,
     "metadata": {},
     "output_type": "execute_result"
    }
   ],
   "source": [
    "fun1('Jay',32)"
   ]
  },
  {
   "cell_type": "markdown",
   "id": "6af6c052-5c7c-4604-b71a-9940f1482349",
   "metadata": {},
   "source": [
    "## Generators"
   ]
  },
  {
   "cell_type": "code",
   "execution_count": 4,
   "id": "98b7439f-0266-484b-81e2-5b93ebfb0452",
   "metadata": {},
   "outputs": [
    {
     "data": {
      "text/plain": [
       "range(1, 10)"
      ]
     },
     "execution_count": 4,
     "metadata": {},
     "output_type": "execute_result"
    }
   ],
   "source": [
    "#just give the object.\n",
    "range(1,10)"
   ]
  },
  {
   "cell_type": "code",
   "execution_count": 5,
   "id": "fc8ae037-6051-4fde-9c4c-6f9a4bef90a1",
   "metadata": {},
   "outputs": [
    {
     "name": "stdout",
     "output_type": "stream",
     "text": [
      "1\n",
      "2\n",
      "3\n",
      "4\n",
      "5\n",
      "6\n",
      "7\n",
      "8\n",
      "9\n"
     ]
    }
   ],
   "source": [
    "for i in range(1,10):\n",
    "    print(i)"
   ]
  },
  {
   "cell_type": "code",
   "execution_count": 6,
   "id": "80561aa4-7c15-41b0-b03f-6456e19055b3",
   "metadata": {},
   "outputs": [],
   "source": [
    "l = [1,2,3,False,4,5,6,True,7,5,4,2,4,'Himal']"
   ]
  },
  {
   "cell_type": "code",
   "execution_count": 10,
   "id": "5a1a6055-4adc-4741-9216-45b34591dce2",
   "metadata": {},
   "outputs": [],
   "source": [
    "def func1(data):\n",
    "    num = []\n",
    "    for i in data:\n",
    "        if type(i) == int:\n",
    "            num.append(i)\n",
    "    return num"
   ]
  },
  {
   "cell_type": "code",
   "execution_count": 11,
   "id": "2399b14b-027e-4d49-9e55-c51147076c97",
   "metadata": {},
   "outputs": [
    {
     "data": {
      "text/plain": [
       "[1, 2, 3, 4, 5, 6, 7, 5, 4, 2, 4]"
      ]
     },
     "execution_count": 11,
     "metadata": {},
     "output_type": "execute_result"
    }
   ],
   "source": [
    "func1(l)"
   ]
  },
  {
   "cell_type": "markdown",
   "id": "930a21d6-5823-4966-8788-9ac67ef1bec6",
   "metadata": {},
   "source": [
    "### Fibonacci Series : 0 1 1 2 3 5 8 13 21 34 45"
   ]
  },
  {
   "cell_type": "markdown",
   "id": "be7c8fdf-8de8-4061-9a22-0b3fdb16ca90",
   "metadata": {},
   "source": [
    "#### Yield is a generator object.\n",
    "#### It doesnot return whole list or data it returns a single element from that data based on the given logic."
   ]
  },
  {
   "cell_type": "code",
   "execution_count": 13,
   "id": "5d60fd4a-e0d9-405b-aacf-7d66d60716e0",
   "metadata": {},
   "outputs": [],
   "source": [
    "def fibo_func(num):\n",
    "    n1,n2 = 0,1\n",
    "    for i in range(num):\n",
    "        yield n1\n",
    "        n1, n2 = n2, n1+n2\n",
    "        # n1 = n2\n",
    "        # n2 = n1 + n2"
   ]
  },
  {
   "cell_type": "code",
   "execution_count": 15,
   "id": "a4baa357-4758-4c8c-9b68-95a9cf7673c2",
   "metadata": {},
   "outputs": [
    {
     "data": {
      "text/plain": [
       "<generator object fibo_func at 0x0000023614C084A0>"
      ]
     },
     "execution_count": 15,
     "metadata": {},
     "output_type": "execute_result"
    }
   ],
   "source": [
    "fibo_func(10)"
   ]
  },
  {
   "cell_type": "code",
   "execution_count": 16,
   "id": "c981c0dd-75b9-46e2-bddd-232ebfa8cc85",
   "metadata": {},
   "outputs": [
    {
     "name": "stdout",
     "output_type": "stream",
     "text": [
      "0\n",
      "1\n",
      "1\n",
      "2\n",
      "3\n",
      "5\n",
      "8\n",
      "13\n",
      "21\n",
      "34\n"
     ]
    }
   ],
   "source": [
    "for i in fibo_func(10):\n",
    "    print(i)"
   ]
  },
  {
   "cell_type": "code",
   "execution_count": 25,
   "id": "fcbffeb3-e1f1-4cdb-aafc-28a3ad574352",
   "metadata": {},
   "outputs": [],
   "source": [
    "def numbers(num):\n",
    "    for i in range(num):\n",
    "        yield i"
   ]
  },
  {
   "cell_type": "code",
   "execution_count": 32,
   "id": "1e49fd67-9f91-4f0c-b1ae-65e3522264c7",
   "metadata": {},
   "outputs": [
    {
     "name": "stdout",
     "output_type": "stream",
     "text": [
      "0\n",
      "1\n",
      "2\n",
      "3\n",
      "4\n",
      "5\n",
      "6\n",
      "7\n",
      "8\n",
      "9\n"
     ]
    }
   ],
   "source": [
    "for i in numbers(10):\n",
    "    print(i)"
   ]
  },
  {
   "cell_type": "code",
   "execution_count": null,
   "id": "f7e3a982-9444-4331-8423-1fea93270a49",
   "metadata": {},
   "outputs": [],
   "source": []
  },
  {
   "cell_type": "code",
   "execution_count": null,
   "id": "8cbd9494-0a5b-4ee2-b2d4-d29abfc96b75",
   "metadata": {},
   "outputs": [],
   "source": []
  },
  {
   "cell_type": "code",
   "execution_count": null,
   "id": "18ad3e1a-1438-43b3-80c8-412d3c301e37",
   "metadata": {},
   "outputs": [],
   "source": []
  }
 ],
 "metadata": {
  "kernelspec": {
   "display_name": "Python 3 (ipykernel)",
   "language": "python",
   "name": "python3"
  },
  "language_info": {
   "codemirror_mode": {
    "name": "ipython",
    "version": 3
   },
   "file_extension": ".py",
   "mimetype": "text/x-python",
   "name": "python",
   "nbconvert_exporter": "python",
   "pygments_lexer": "ipython3",
   "version": "3.9.12"
  }
 },
 "nbformat": 4,
 "nbformat_minor": 5
}
